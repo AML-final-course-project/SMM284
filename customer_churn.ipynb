{
 "cells": [
  {
   "cell_type": "markdown",
   "metadata": {},
   "source": [
    "import library"
   ]
  },
  {
   "cell_type": "code",
   "execution_count": 46,
   "metadata": {},
   "outputs": [],
   "source": [
    "import pandas as pd\n",
    "import numpy as np\n",
    "import seaborn as sns\n",
    "import matplotlib.pyplot as plt\n",
    "from sklearn.preprocessing import StandardScaler\n",
    "from sklearn.model_selection import train_test_split\n",
    "import tensorflow as tf\n",
    "import tensorflow_addons as tfa\n",
    "\n",
    "from sklearn.linear_model import LogisticRegression\n",
    "from sklearn import metrics\n",
    "from sklearn.metrics import confusion_matrix\n",
    "from sklearn.metrics import roc_auc_score\n",
    "from sklearn.metrics import f1_score, accuracy_score\n",
    "from sklearn.metrics import roc_curve\n",
    "from sklearn.tree import DecisionTreeClassifier\n",
    "from sklearn.ensemble import RandomForestClassifier, GradientBoostingClassifier\n",
    "\n",
    "\n",
    "\n",
    "from sklearn.model_selection import GridSearchCV\n",
    "\n",
    "# import warnings\n",
    "# warnings.filterwarnings('ignore')"
   ]
  },
  {
   "cell_type": "markdown",
   "metadata": {},
   "source": [
    "### Frame the problem:\n",
    "\"describe the dataset, the purpose and aim of the project\""
   ]
  },
  {
   "cell_type": "markdown",
   "metadata": {},
   "source": [
    "### Data loading, descriptive stats, percentage split of each column so we can verify after splitting\n",
    "\"add comments for every aspect here\""
   ]
  },
  {
   "cell_type": "code",
   "execution_count": 2,
   "metadata": {},
   "outputs": [
    {
     "name": "stdout",
     "output_type": "stream",
     "text": [
      "=isnull==========================================================\n",
      "RowNumber          0\n",
      "CustomerId         0\n",
      "Surname            0\n",
      "CreditScore        0\n",
      "Geography          0\n",
      "Gender             0\n",
      "Age                0\n",
      "Tenure             0\n",
      "Balance            0\n",
      "NumOfProducts      0\n",
      "HasCrCard          0\n",
      "IsActiveMember     0\n",
      "EstimatedSalary    0\n",
      "Exited             0\n",
      "dtype: int64\n",
      "=duplicated======================================================\n",
      "0\n",
      "=nunique=========================================================\n",
      "RowNumber          10000\n",
      "CustomerId         10000\n",
      "Surname             2932\n",
      "CreditScore          460\n",
      "Geography              3\n",
      "Gender                 2\n",
      "Age                   70\n",
      "Tenure                11\n",
      "Balance             6382\n",
      "NumOfProducts          4\n",
      "HasCrCard              2\n",
      "IsActiveMember         2\n",
      "EstimatedSalary     9999\n",
      "Exited                 2\n",
      "dtype: int64\n",
      "=dtypes=========================================================\n",
      "RowNumber            int64\n",
      "CustomerId           int64\n",
      "Surname             object\n",
      "CreditScore          int64\n",
      "Geography           object\n",
      "Gender              object\n",
      "Age                  int64\n",
      "Tenure               int64\n",
      "Balance            float64\n",
      "NumOfProducts        int64\n",
      "HasCrCard            int64\n",
      "IsActiveMember       int64\n",
      "EstimatedSalary    float64\n",
      "Exited               int64\n",
      "dtype: object\n",
      "=if it is unbalance==============================================\n",
      "not Exited 0 :  (7963, 14)\n",
      "Exited 1 :  (2037, 14)\n"
     ]
    },
    {
     "data": {
      "text/html": [
       "<div>\n",
       "<style scoped>\n",
       "    .dataframe tbody tr th:only-of-type {\n",
       "        vertical-align: middle;\n",
       "    }\n",
       "\n",
       "    .dataframe tbody tr th {\n",
       "        vertical-align: top;\n",
       "    }\n",
       "\n",
       "    .dataframe thead th {\n",
       "        text-align: right;\n",
       "    }\n",
       "</style>\n",
       "<table border=\"1\" class=\"dataframe\">\n",
       "  <thead>\n",
       "    <tr style=\"text-align: right;\">\n",
       "      <th></th>\n",
       "      <th>RowNumber</th>\n",
       "      <th>CustomerId</th>\n",
       "      <th>Surname</th>\n",
       "      <th>CreditScore</th>\n",
       "      <th>Geography</th>\n",
       "      <th>Gender</th>\n",
       "      <th>Age</th>\n",
       "      <th>Tenure</th>\n",
       "      <th>Balance</th>\n",
       "      <th>NumOfProducts</th>\n",
       "      <th>HasCrCard</th>\n",
       "      <th>IsActiveMember</th>\n",
       "      <th>EstimatedSalary</th>\n",
       "      <th>Exited</th>\n",
       "    </tr>\n",
       "  </thead>\n",
       "  <tbody>\n",
       "    <tr>\n",
       "      <th>0</th>\n",
       "      <td>1</td>\n",
       "      <td>15634602</td>\n",
       "      <td>Hargrave</td>\n",
       "      <td>619</td>\n",
       "      <td>France</td>\n",
       "      <td>Female</td>\n",
       "      <td>42</td>\n",
       "      <td>2</td>\n",
       "      <td>0.00</td>\n",
       "      <td>1</td>\n",
       "      <td>1</td>\n",
       "      <td>1</td>\n",
       "      <td>101348.88</td>\n",
       "      <td>1</td>\n",
       "    </tr>\n",
       "    <tr>\n",
       "      <th>1</th>\n",
       "      <td>2</td>\n",
       "      <td>15647311</td>\n",
       "      <td>Hill</td>\n",
       "      <td>608</td>\n",
       "      <td>Spain</td>\n",
       "      <td>Female</td>\n",
       "      <td>41</td>\n",
       "      <td>1</td>\n",
       "      <td>83807.86</td>\n",
       "      <td>1</td>\n",
       "      <td>0</td>\n",
       "      <td>1</td>\n",
       "      <td>112542.58</td>\n",
       "      <td>0</td>\n",
       "    </tr>\n",
       "    <tr>\n",
       "      <th>2</th>\n",
       "      <td>3</td>\n",
       "      <td>15619304</td>\n",
       "      <td>Onio</td>\n",
       "      <td>502</td>\n",
       "      <td>France</td>\n",
       "      <td>Female</td>\n",
       "      <td>42</td>\n",
       "      <td>8</td>\n",
       "      <td>159660.80</td>\n",
       "      <td>3</td>\n",
       "      <td>1</td>\n",
       "      <td>0</td>\n",
       "      <td>113931.57</td>\n",
       "      <td>1</td>\n",
       "    </tr>\n",
       "    <tr>\n",
       "      <th>3</th>\n",
       "      <td>4</td>\n",
       "      <td>15701354</td>\n",
       "      <td>Boni</td>\n",
       "      <td>699</td>\n",
       "      <td>France</td>\n",
       "      <td>Female</td>\n",
       "      <td>39</td>\n",
       "      <td>1</td>\n",
       "      <td>0.00</td>\n",
       "      <td>2</td>\n",
       "      <td>0</td>\n",
       "      <td>0</td>\n",
       "      <td>93826.63</td>\n",
       "      <td>0</td>\n",
       "    </tr>\n",
       "    <tr>\n",
       "      <th>4</th>\n",
       "      <td>5</td>\n",
       "      <td>15737888</td>\n",
       "      <td>Mitchell</td>\n",
       "      <td>850</td>\n",
       "      <td>Spain</td>\n",
       "      <td>Female</td>\n",
       "      <td>43</td>\n",
       "      <td>2</td>\n",
       "      <td>125510.82</td>\n",
       "      <td>1</td>\n",
       "      <td>1</td>\n",
       "      <td>1</td>\n",
       "      <td>79084.10</td>\n",
       "      <td>0</td>\n",
       "    </tr>\n",
       "    <tr>\n",
       "      <th>...</th>\n",
       "      <td>...</td>\n",
       "      <td>...</td>\n",
       "      <td>...</td>\n",
       "      <td>...</td>\n",
       "      <td>...</td>\n",
       "      <td>...</td>\n",
       "      <td>...</td>\n",
       "      <td>...</td>\n",
       "      <td>...</td>\n",
       "      <td>...</td>\n",
       "      <td>...</td>\n",
       "      <td>...</td>\n",
       "      <td>...</td>\n",
       "      <td>...</td>\n",
       "    </tr>\n",
       "    <tr>\n",
       "      <th>9995</th>\n",
       "      <td>9996</td>\n",
       "      <td>15606229</td>\n",
       "      <td>Obijiaku</td>\n",
       "      <td>771</td>\n",
       "      <td>France</td>\n",
       "      <td>Male</td>\n",
       "      <td>39</td>\n",
       "      <td>5</td>\n",
       "      <td>0.00</td>\n",
       "      <td>2</td>\n",
       "      <td>1</td>\n",
       "      <td>0</td>\n",
       "      <td>96270.64</td>\n",
       "      <td>0</td>\n",
       "    </tr>\n",
       "    <tr>\n",
       "      <th>9996</th>\n",
       "      <td>9997</td>\n",
       "      <td>15569892</td>\n",
       "      <td>Johnstone</td>\n",
       "      <td>516</td>\n",
       "      <td>France</td>\n",
       "      <td>Male</td>\n",
       "      <td>35</td>\n",
       "      <td>10</td>\n",
       "      <td>57369.61</td>\n",
       "      <td>1</td>\n",
       "      <td>1</td>\n",
       "      <td>1</td>\n",
       "      <td>101699.77</td>\n",
       "      <td>0</td>\n",
       "    </tr>\n",
       "    <tr>\n",
       "      <th>9997</th>\n",
       "      <td>9998</td>\n",
       "      <td>15584532</td>\n",
       "      <td>Liu</td>\n",
       "      <td>709</td>\n",
       "      <td>France</td>\n",
       "      <td>Female</td>\n",
       "      <td>36</td>\n",
       "      <td>7</td>\n",
       "      <td>0.00</td>\n",
       "      <td>1</td>\n",
       "      <td>0</td>\n",
       "      <td>1</td>\n",
       "      <td>42085.58</td>\n",
       "      <td>1</td>\n",
       "    </tr>\n",
       "    <tr>\n",
       "      <th>9998</th>\n",
       "      <td>9999</td>\n",
       "      <td>15682355</td>\n",
       "      <td>Sabbatini</td>\n",
       "      <td>772</td>\n",
       "      <td>Germany</td>\n",
       "      <td>Male</td>\n",
       "      <td>42</td>\n",
       "      <td>3</td>\n",
       "      <td>75075.31</td>\n",
       "      <td>2</td>\n",
       "      <td>1</td>\n",
       "      <td>0</td>\n",
       "      <td>92888.52</td>\n",
       "      <td>1</td>\n",
       "    </tr>\n",
       "    <tr>\n",
       "      <th>9999</th>\n",
       "      <td>10000</td>\n",
       "      <td>15628319</td>\n",
       "      <td>Walker</td>\n",
       "      <td>792</td>\n",
       "      <td>France</td>\n",
       "      <td>Female</td>\n",
       "      <td>28</td>\n",
       "      <td>4</td>\n",
       "      <td>130142.79</td>\n",
       "      <td>1</td>\n",
       "      <td>1</td>\n",
       "      <td>0</td>\n",
       "      <td>38190.78</td>\n",
       "      <td>0</td>\n",
       "    </tr>\n",
       "  </tbody>\n",
       "</table>\n",
       "<p>10000 rows × 14 columns</p>\n",
       "</div>"
      ],
      "text/plain": [
       "      RowNumber  CustomerId    Surname  CreditScore Geography  Gender  Age  \\\n",
       "0             1    15634602   Hargrave          619    France  Female   42   \n",
       "1             2    15647311       Hill          608     Spain  Female   41   \n",
       "2             3    15619304       Onio          502    France  Female   42   \n",
       "3             4    15701354       Boni          699    France  Female   39   \n",
       "4             5    15737888   Mitchell          850     Spain  Female   43   \n",
       "...         ...         ...        ...          ...       ...     ...  ...   \n",
       "9995       9996    15606229   Obijiaku          771    France    Male   39   \n",
       "9996       9997    15569892  Johnstone          516    France    Male   35   \n",
       "9997       9998    15584532        Liu          709    France  Female   36   \n",
       "9998       9999    15682355  Sabbatini          772   Germany    Male   42   \n",
       "9999      10000    15628319     Walker          792    France  Female   28   \n",
       "\n",
       "      Tenure    Balance  NumOfProducts  HasCrCard  IsActiveMember  \\\n",
       "0          2       0.00              1          1               1   \n",
       "1          1   83807.86              1          0               1   \n",
       "2          8  159660.80              3          1               0   \n",
       "3          1       0.00              2          0               0   \n",
       "4          2  125510.82              1          1               1   \n",
       "...      ...        ...            ...        ...             ...   \n",
       "9995       5       0.00              2          1               0   \n",
       "9996      10   57369.61              1          1               1   \n",
       "9997       7       0.00              1          0               1   \n",
       "9998       3   75075.31              2          1               0   \n",
       "9999       4  130142.79              1          1               0   \n",
       "\n",
       "      EstimatedSalary  Exited  \n",
       "0           101348.88       1  \n",
       "1           112542.58       0  \n",
       "2           113931.57       1  \n",
       "3            93826.63       0  \n",
       "4            79084.10       0  \n",
       "...               ...     ...  \n",
       "9995         96270.64       0  \n",
       "9996        101699.77       0  \n",
       "9997         42085.58       1  \n",
       "9998         92888.52       1  \n",
       "9999         38190.78       0  \n",
       "\n",
       "[10000 rows x 14 columns]"
      ]
     },
     "execution_count": 2,
     "metadata": {},
     "output_type": "execute_result"
    }
   ],
   "source": [
    "# read the csv file\n",
    "df = pd.read_csv('churn.csv')\n",
    "# check the na values\n",
    "print('=isnull==========================================================')\n",
    "print(df.isnull().sum())\n",
    "# check the duplicate values\n",
    "print('=duplicated======================================================')\n",
    "print(df.duplicated().sum())\n",
    "# check the unique values\n",
    "print('=nunique=========================================================')\n",
    "print(df.nunique())\n",
    "# check the data types\n",
    "print('=dtypes=========================================================')\n",
    "print(df.dtypes)\n",
    "# check the data shape\n",
    "print('=if it is unbalance==============================================')\n",
    "print(\"not Exited 0 : \",df[df['Exited']==0].shape)\n",
    "print(\"Exited 1 : \",df[df['Exited']==1].shape)\n",
    "# check the overall data \n",
    "df"
   ]
  },
  {
   "cell_type": "markdown",
   "metadata": {},
   "source": [
    "### Preprocessing - train/test split\n",
    "\"It may sound strange to voluntarily set aside part of the data at this stage. After all, you have only taken a quick glance at the data, and surely you should learn a whole lot more about it before you decide what algorithms to use, right? This is true, but your brain is an amazing pattern detection system, which means that it is highly prone to overfitting: if you look at the test set, you may stumble upon some seemingly interesting pattern in the test data that leads you to select a particular kind of Machine Learning model. When you estimate the generalization error using the test set, your estimate will be too optimistic and you will launch a system that will not perform as well as expected. This is called data snooping bias.\""
   ]
  },
  {
   "cell_type": "code",
   "execution_count": 3,
   "metadata": {},
   "outputs": [
    {
     "name": "stdout",
     "output_type": "stream",
     "text": [
      "\n",
      "Gender\n",
      "======\n",
      "Male      0.5457\n",
      "Female    0.4543\n",
      "Name: Gender, dtype: float64\n",
      "-----\n",
      "\n",
      "Geography\n",
      "=========\n",
      "France     0.5014\n",
      "Germany    0.2509\n",
      "Spain      0.2477\n",
      "Name: Geography, dtype: float64\n",
      "-------\n",
      "\n",
      "Exited\n",
      "======\n",
      "0    0.7963\n",
      "1    0.2037\n",
      "Name: Exited, dtype: float64\n",
      "------\n",
      "\n"
     ]
    }
   ],
   "source": [
    "# Inspecting the distribution between the categorical variables in the main dataset to try and preserve the same ratio in the train, test, and validation sets.\n",
    "\n",
    "print('''\n",
    "Gender\n",
    "======\n",
    "{}\n",
    "-----\n",
    "\n",
    "Geography\n",
    "=========\n",
    "{}\n",
    "-------\n",
    "\n",
    "Exited\n",
    "======\n",
    "{}\n",
    "------\n",
    "'''.format(df.Gender.value_counts()/len(df),\n",
    "df.Geography.value_counts()/len(df),df.Exited.value_counts()/len(df)))"
   ]
  },
  {
   "cell_type": "code",
   "execution_count": 4,
   "metadata": {},
   "outputs": [],
   "source": [
    "# the preprocessing definiation function (just foor viz)\n",
    "def preprocesssing(df):    \n",
    "    # Drop the Surname, RowNumber, and CustomerId columns (no duplicates, all unique)\n",
    "    df.drop(columns=['Surname'],inplace=True)\n",
    "    df.drop(columns=['RowNumber'],inplace=True)\n",
    "    df.drop(columns=['CustomerId'],inplace=True)\n",
    "    #Make dummies from categroical variales\n",
    "    categorical_cols = [\n",
    "        'Geography', 'Gender'\n",
    "    ]\n",
    "    df = pd.get_dummies(df,\n",
    "                        columns=categorical_cols,\n",
    "                        dummy_na=False, # there's no nan in the df\n",
    "                        drop_first=True)\n",
    "    return df\n",
    "\n",
    "df = preprocesssing(df)\n",
    "\n",
    "# plotting the variable of 1 and 0 of distribution (after pre-processing)\n",
    "numeric_columns = [\n",
    "    'CreditScore', 'Age', 'Tenure', 'Balance', 'NumOfProducts', 'HasCrCard', 'EstimatedSalary'\n",
    "]\n",
    "df_plot = df.copy()"
   ]
  },
  {
   "cell_type": "code",
   "execution_count": 5,
   "metadata": {},
   "outputs": [
    {
     "name": "stdout",
     "output_type": "stream",
     "text": [
      "(6000, 11) (1500, 11) (2500, 11)\n"
     ]
    }
   ],
   "source": [
    "# here need to change to George's code to evenly distribute the 0 an 1\n",
    "y = df['Exited'] # 1 in the case of Exited; 0 not Exited\n",
    "X = df.drop(columns='Exited')\n",
    "\n",
    "# split training, validation and test sets\n",
    "X_train_val, X_test, Y_train_val, Y_test = train_test_split(X, y, train_size=0.75, stratify=y, random_state=461)\n",
    "\n",
    "X_train, X_valid, Y_train, Y_valid = train_test_split(X_train_val, Y_train_val, train_size = 0.8, stratify=Y_train_val, random_state=461)\n",
    "print(X_train.shape, X_valid.shape , X_test.shape)\n",
    "\n",
    "numeric_columns = [\n",
    "    'CreditScore', 'Age', 'Tenure', 'Balance', 'NumOfProducts', 'HasCrCard', 'EstimatedSalary'\n",
    "]\n",
    "\n",
    "from sklearn.preprocessing import StandardScaler\n",
    "scaler = StandardScaler() \n",
    "X_train[numeric_columns] = scaler.fit_transform(X_train[numeric_columns])\n",
    "X_valid[numeric_columns] = scaler.transform(X_valid[numeric_columns])\n",
    "X_test[numeric_columns] = scaler.transform(X_test[numeric_columns])"
   ]
  },
  {
   "cell_type": "code",
   "execution_count": 6,
   "metadata": {},
   "outputs": [
    {
     "data": {
      "text/plain": [
       "(0.20366666666666666, 0.2036, 0.204)"
      ]
     },
     "execution_count": 6,
     "metadata": {},
     "output_type": "execute_result"
    }
   ],
   "source": [
    "# verifying if the split between classes is preserved\n",
    "Y_train.mean(), Y_test.mean(), Y_valid.mean()"
   ]
  },
  {
   "cell_type": "code",
   "execution_count": 7,
   "metadata": {},
   "outputs": [
    {
     "name": "stdout",
     "output_type": "stream",
     "text": [
      "\n",
      "Train Gender Male\n",
      "======\n",
      "1    0.547833\n",
      "0    0.452167\n",
      "Name: Gender_Male, dtype: float64\n",
      "-----\n",
      "\n",
      "Test Gender Male\n",
      "=========\n",
      "1    0.5452\n",
      "0    0.4548\n",
      "Name: Gender_Male, dtype: float64\n",
      "-------\n",
      "\n",
      "Valid Gender Male\n",
      "======\n",
      "1    0.538\n",
      "0    0.462\n",
      "Name: Gender_Male, dtype: float64\n",
      "------\n",
      "\n"
     ]
    }
   ],
   "source": [
    "# verifying if the split within the categories closely matches the main dataset\n",
    "print(\n",
    "'''\n",
    "Train Gender Male\n",
    "======\n",
    "{}\n",
    "-----\n",
    "\n",
    "Test Gender Male\n",
    "=========\n",
    "{}\n",
    "-------\n",
    "\n",
    "Valid Gender Male\n",
    "======\n",
    "{}\n",
    "------\n",
    "'''.format(X_train.Gender_Male.value_counts()/len(X_train), X_test.Gender_Male.value_counts()/len(X_test), X_valid.Gender_Male.value_counts()/len(X_valid))\n",
    ")"
   ]
  },
  {
   "cell_type": "code",
   "execution_count": 8,
   "metadata": {},
   "outputs": [
    {
     "name": "stdout",
     "output_type": "stream",
     "text": [
      "\n",
      "Train Geography Germany\n",
      "======\n",
      "0    0.750833\n",
      "1    0.249167\n",
      "Name: Geography_Germany, dtype: float64\n",
      "-----\n",
      "\n",
      "Test Goegraphy Germany\n",
      "=========\n",
      "0    0.746\n",
      "1    0.254\n",
      "Name: Geography_Germany, dtype: float64\n",
      "-------\n",
      "\n",
      "Valid Geography Germany\n",
      "======\n",
      "0    0.747333\n",
      "1    0.252667\n",
      "Name: Geography_Germany, dtype: float64\n",
      "------\n",
      "\n"
     ]
    }
   ],
   "source": [
    "print(\n",
    "'''\n",
    "Train Geography Germany\n",
    "======\n",
    "{}\n",
    "-----\n",
    "\n",
    "Test Goegraphy Germany\n",
    "=========\n",
    "{}\n",
    "-------\n",
    "\n",
    "Valid Geography Germany\n",
    "======\n",
    "{}\n",
    "------\n",
    "'''.format(X_train.Geography_Germany.value_counts()/len(X_train),X_test.Geography_Germany.value_counts()/len(X_test), X_valid.Geography_Germany.value_counts()/len(X_valid))\n",
    ")"
   ]
  },
  {
   "cell_type": "code",
   "execution_count": 9,
   "metadata": {},
   "outputs": [
    {
     "name": "stdout",
     "output_type": "stream",
     "text": [
      "\n",
      "Train Geography Spain\n",
      "======\n",
      "0    0.754667\n",
      "1    0.245333\n",
      "Name: Geography_Spain, dtype: float64\n",
      "-----\n",
      "\n",
      "Test Goegraphy Spain\n",
      "=========\n",
      "0    0.7432\n",
      "1    0.2568\n",
      "Name: Geography_Spain, dtype: float64\n",
      "-------\n",
      "\n",
      "Valid Geography Spain\n",
      "======\n",
      "0    0.758\n",
      "1    0.242\n",
      "Name: Geography_Spain, dtype: float64\n",
      "------\n",
      "\n"
     ]
    }
   ],
   "source": [
    "print(\n",
    "'''\n",
    "Train Geography Spain\n",
    "======\n",
    "{}\n",
    "-----\n",
    "\n",
    "Test Goegraphy Spain\n",
    "=========\n",
    "{}\n",
    "-------\n",
    "\n",
    "Valid Geography Spain\n",
    "======\n",
    "{}\n",
    "------\n",
    "'''.format(X_train.Geography_Spain.value_counts()/len(X_train),X_test.Geography_Spain.value_counts()/len(X_test), X_valid.Geography_Spain.value_counts()/len(X_valid))\n",
    ")"
   ]
  },
  {
   "cell_type": "markdown",
   "metadata": {},
   "source": [
    "### Exploration and Descpritive study of training set (inc. viz)"
   ]
  },
  {
   "cell_type": "markdown",
   "metadata": {},
   "source": [
    "correlations, scatterplots, histograms, all of Tim's stuff, some of George's stuff"
   ]
  },
  {
   "cell_type": "code",
   "execution_count": 10,
   "metadata": {},
   "outputs": [
    {
     "data": {
      "image/png": "[encoded data removed]",
      "text/plain": [
       "<Figure size 1440x720 with 8 Axes>"
      ]
     },
     "metadata": {},
     "output_type": "display_data"
    },
    {
     "data": {
      "text/plain": [
       "<Figure size 432x288 with 0 Axes>"
      ]
     },
     "metadata": {},
     "output_type": "display_data"
    },
    {
     "data": {
      "image/png": "[encoded data removed]",
      "text/plain": [
       "<Figure size 576x288 with 1 Axes>"
      ]
     },
     "metadata": {},
     "output_type": "display_data"
    }
   ],
   "source": [
    "# see all the features differences of 0 and 1 with the mean (after preprocessing)\n",
    "sns.set(style=\"darkgrid\")\n",
    "fig, axs = plt.subplots(2, 4, figsize=(20, 10))\n",
    "for i, col in enumerate(numeric_columns):\n",
    "    if i < 4:\n",
    "        sns.histplot(df_plot, x=f\"{col}\", hue = \"Exited\", kde=True, color=\"skyblue\", ax=axs[0, i])\n",
    "    else:\n",
    "        sns.histplot(df_plot, x=f\"{col}\", hue = \"Exited\", kde=True, color=\"skyblue\", ax=axs[1, i-4])\n",
    "plt.figure()\n",
    "\n",
    "\n",
    "# Note rthat we take a look at the scalar data (but not really apply the scalar here, we should apply after the split\n",
    "scaler = StandardScaler()\n",
    "df_plot[numeric_columns] = scaler.fit_transform(df_plot[numeric_columns])\n",
    "# Plot out to see the mean of the data\n",
    "df_Exited_describe  = df_plot[df_plot['Exited']==1].describe()\n",
    "df_not_Exited_describe  = df_plot[df_plot['Exited']==0].describe()\n",
    "df_Exited_mean = df_Exited_describe.iloc[1:2]\n",
    "df_not_Exited_mean = df_not_Exited_describe.iloc[1:2]\n",
    "df_Exited_mean_transposed = df_Exited_mean.T \n",
    "df_not_Exite_mean_transposed = df_not_Exited_mean.T \n",
    "\n",
    "df_Exited_mean_transposed['variable'] = df_Exited_mean_transposed.index\n",
    "df_not_Exite_mean_transposed['variable'] = df_not_Exite_mean_transposed.index\n",
    "df_Exited_mean_transposed = df_Exited_mean_transposed.rename(columns={'mean': 'Exited mean'}, index={'variable': 'variable'})\n",
    "df_not_Exite_mean_transposed = df_not_Exite_mean_transposed.rename(columns={'mean': 'not Exited mean'}, index={'variable': 'variable'})\n",
    "\n",
    "plt.rcParams[\"figure.figsize\"] = [8, 4]\n",
    "plt.rcParams[\"figure.autolayout\"] = True\n",
    "\n",
    "ax = df_Exited_mean_transposed.plot(x='variable', y='Exited mean')\n",
    "df_not_Exite_mean_transposed.plot(ax=ax, x='variable', y='not Exited mean')\n",
    "\n",
    "plt.xticks(range(len(df_Exited_mean_transposed['variable'])),list(df_not_Exite_mean_transposed['variable']),rotation=90)\n",
    "plt.show()"
   ]
  },
  {
   "cell_type": "code",
   "execution_count": 11,
   "metadata": {},
   "outputs": [
    {
     "name": "stderr",
     "output_type": "stream",
     "text": [
      "/opt/anaconda3/envs/py38_tsf_env/lib/python3.8/site-packages/seaborn/_decorators.py:36: FutureWarning: Pass the following variable as a keyword arg: x. From version 0.12, the only valid positional argument will be `data`, and passing other arguments without an explicit keyword will result in an error or misinterpretation.\n",
      "  warnings.warn(\n",
      "/opt/anaconda3/envs/py38_tsf_env/lib/python3.8/site-packages/seaborn/_decorators.py:36: FutureWarning: Pass the following variable as a keyword arg: x. From version 0.12, the only valid positional argument will be `data`, and passing other arguments without an explicit keyword will result in an error or misinterpretation.\n",
      "  warnings.warn(\n",
      "/opt/anaconda3/envs/py38_tsf_env/lib/python3.8/site-packages/seaborn/_decorators.py:36: FutureWarning: Pass the following variable as a keyword arg: x. From version 0.12, the only valid positional argument will be `data`, and passing other arguments without an explicit keyword will result in an error or misinterpretation.\n",
      "  warnings.warn(\n",
      "/opt/anaconda3/envs/py38_tsf_env/lib/python3.8/site-packages/seaborn/_decorators.py:36: FutureWarning: Pass the following variable as a keyword arg: x. From version 0.12, the only valid positional argument will be `data`, and passing other arguments without an explicit keyword will result in an error or misinterpretation.\n",
      "  warnings.warn(\n"
     ]
    },
    {
     "data": {
      "image/png": "[encoded data removed]",
      "text/plain": [
       "<Figure size 1080x1080 with 6 Axes>"
      ]
     },
     "metadata": {},
     "output_type": "display_data"
    }
   ],
   "source": [
    "# Checking for outliers in the numeric columns\n",
    "\n",
    "sns.set(style=\"darkgrid\")\n",
    "fig, axs = plt.subplots(3, 2, figsize=(15, 15))\n",
    "\n",
    "# Cheking the credit scores\n",
    "sns.histplot(df['CreditScore'], ax=axs[0,0])\n",
    "sns.boxplot(df['CreditScore'], ax=axs[0,1], color='orange')\n",
    "\n",
    "# Checking the Balance\n",
    "sns.histplot(df['Balance'], ax=axs[1,0])\n",
    "sns.boxplot(df['Balance'], ax=axs[1,1], color='orange')\n",
    "\n",
    "# Checking the Estimated salaries\n",
    "sns.histplot(df['Balance'], ax=axs[1,0])\n",
    "sns.boxplot(df['Balance'], ax=axs[1,1], color='orange')\n",
    "\n",
    "# Plotting the results\n",
    "sns.histplot(df['EstimatedSalary'], ax=axs[2,0])\n",
    "sns.boxplot(df['EstimatedSalary'], ax=axs[2,1], color='orange')\n",
    "\n",
    "plt.show()"
   ]
  },
  {
   "cell_type": "code",
   "execution_count": 12,
   "metadata": {},
   "outputs": [
    {
     "data": {
      "text/plain": [
       "<AxesSubplot:>"
      ]
     },
     "execution_count": 12,
     "metadata": {},
     "output_type": "execute_result"
    },
    {
     "data": {
      "image/png": "[encoded data removed]",
      "text/plain": [
       "<Figure size 576x288 with 2 Axes>"
      ]
     },
     "metadata": {},
     "output_type": "display_data"
    }
   ],
   "source": [
    "sns.heatmap(X_train.corr(), cmap='coolwarm')"
   ]
  },
  {
   "cell_type": "code",
   "execution_count": 13,
   "metadata": {},
   "outputs": [
    {
     "name": "stdout",
     "output_type": "stream",
     "text": [
      "Outliers at credit scores\n",
      "=========================\n",
      "(array([1405, 1631, 1838, 1962, 2473, 8723, 8762, 9624]),)\n",
      "Outliers at Balance\n",
      "===================\n",
      "(array([], dtype=int64),)\n",
      "Outliers at Estimated Salary\n",
      "============================\n",
      "(array([], dtype=int64),)\n"
     ]
    }
   ],
   "source": [
    "from scipy import stats\n",
    "\n",
    "## Finding for creditScore\n",
    "# Calculating the Z scores\n",
    "Z_credit = stats.zscore(df[\"CreditScore\"],nan_policy=\"omit\") #compute z-score table\n",
    "# Find the ones with Z scores out of the range [-3,3]\n",
    "print('Outliers at credit scores')\n",
    "print('=========================')\n",
    "print(np.where((Z_credit>3) | (Z_credit<-3)))\n",
    "\n",
    "\n",
    "## Finding for Balance\n",
    "# Calculating the Z scores\n",
    "Z_balance = stats.zscore(df[\"Balance\"],nan_policy=\"omit\") #compute z-score table\n",
    "# Find the ones with Z scores out of the range [-3,3]\n",
    "print('Outliers at Balance')\n",
    "print('===================')\n",
    "print(np.where((Z_balance>3) | (Z_balance<-3)))\n",
    "\n",
    "## Finding for Estimated salaries\n",
    "# Calculating the Z scores\n",
    "Z_salary = stats.zscore(df[\"EstimatedSalary\"],nan_policy=\"omit\") #compute z-score table\n",
    "# Find the ones with Z scores out of the range [-3,3]\n",
    "print('Outliers at Estimated Salary')\n",
    "print('============================')\n",
    "print(np.where((Z_salary>3) | (Z_salary<-3)))"
   ]
  },
  {
   "cell_type": "markdown",
   "metadata": {},
   "source": [
    "### Data Cleaning\n",
    "proving there is nothing to clean - just for the sake of including and evidencing."
   ]
  },
  {
   "cell_type": "markdown",
   "metadata": {},
   "source": [
    "### Dealing with categorical data"
   ]
  },
  {
   "cell_type": "markdown",
   "metadata": {},
   "source": [
    "### Feature engineering - try and do different things here (??Maybe do this after baseline models??)"
   ]
  },
  {
   "cell_type": "code",
   "execution_count": 14,
   "metadata": {},
   "outputs": [],
   "source": [
    "def new_features (df):\n",
    "\n",
    "    # Feature engineering\n",
    "    df['NewAge'] = pd.cut(df.Age, bins = [18, 26, 42, 58, 68, 77, 100], \n",
    "                      labels = [1,2,3,4,5,6],include_lowest = True)\n",
    "# source: 'age range by generation'   beresfordresearch.com/age-range-by-generation/\n",
    "    df[\"NewCreditsScore\"] = pd.qcut(df['CreditScore'], 6, labels = [1, 2, 3, 4, 5, 6])\n",
    "    df[\"NewEstSalaryScore\"] = pd.qcut(df['EstimatedSalary'], 10, labels = [1, 2, 3, 4, 5, 6, 7, 8, 9, 10])\n",
    "    df.drop(columns=['Age','CreditScore', 'EstimatedSalary'],inplace=True)\n",
    "    \n",
    "    return df"
   ]
  },
  {
   "cell_type": "code",
   "execution_count": 15,
   "metadata": {},
   "outputs": [
    {
     "data": {
      "text/html": [
       "<div>\n",
       "<style scoped>\n",
       "    .dataframe tbody tr th:only-of-type {\n",
       "        vertical-align: middle;\n",
       "    }\n",
       "\n",
       "    .dataframe tbody tr th {\n",
       "        vertical-align: top;\n",
       "    }\n",
       "\n",
       "    .dataframe thead th {\n",
       "        text-align: right;\n",
       "    }\n",
       "</style>\n",
       "<table border=\"1\" class=\"dataframe\">\n",
       "  <thead>\n",
       "    <tr style=\"text-align: right;\">\n",
       "      <th></th>\n",
       "      <th>Tenure</th>\n",
       "      <th>Balance</th>\n",
       "      <th>NumOfProducts</th>\n",
       "      <th>HasCrCard</th>\n",
       "      <th>IsActiveMember</th>\n",
       "      <th>Exited</th>\n",
       "      <th>Geography_Germany</th>\n",
       "      <th>Geography_Spain</th>\n",
       "      <th>Gender_Male</th>\n",
       "      <th>NewAge</th>\n",
       "      <th>NewCreditsScore</th>\n",
       "      <th>NewEstSalaryScore</th>\n",
       "    </tr>\n",
       "  </thead>\n",
       "  <tbody>\n",
       "    <tr>\n",
       "      <th>0</th>\n",
       "      <td>2</td>\n",
       "      <td>0.00</td>\n",
       "      <td>1</td>\n",
       "      <td>1</td>\n",
       "      <td>1</td>\n",
       "      <td>1</td>\n",
       "      <td>0</td>\n",
       "      <td>0</td>\n",
       "      <td>0</td>\n",
       "      <td>2</td>\n",
       "      <td>3</td>\n",
       "      <td>6</td>\n",
       "    </tr>\n",
       "    <tr>\n",
       "      <th>1</th>\n",
       "      <td>1</td>\n",
       "      <td>83807.86</td>\n",
       "      <td>1</td>\n",
       "      <td>0</td>\n",
       "      <td>1</td>\n",
       "      <td>0</td>\n",
       "      <td>0</td>\n",
       "      <td>1</td>\n",
       "      <td>0</td>\n",
       "      <td>2</td>\n",
       "      <td>2</td>\n",
       "      <td>6</td>\n",
       "    </tr>\n",
       "    <tr>\n",
       "      <th>2</th>\n",
       "      <td>8</td>\n",
       "      <td>159660.80</td>\n",
       "      <td>3</td>\n",
       "      <td>1</td>\n",
       "      <td>0</td>\n",
       "      <td>1</td>\n",
       "      <td>0</td>\n",
       "      <td>0</td>\n",
       "      <td>0</td>\n",
       "      <td>2</td>\n",
       "      <td>1</td>\n",
       "      <td>6</td>\n",
       "    </tr>\n",
       "    <tr>\n",
       "      <th>3</th>\n",
       "      <td>1</td>\n",
       "      <td>0.00</td>\n",
       "      <td>2</td>\n",
       "      <td>0</td>\n",
       "      <td>0</td>\n",
       "      <td>0</td>\n",
       "      <td>0</td>\n",
       "      <td>0</td>\n",
       "      <td>0</td>\n",
       "      <td>2</td>\n",
       "      <td>5</td>\n",
       "      <td>5</td>\n",
       "    </tr>\n",
       "    <tr>\n",
       "      <th>4</th>\n",
       "      <td>2</td>\n",
       "      <td>125510.82</td>\n",
       "      <td>1</td>\n",
       "      <td>1</td>\n",
       "      <td>1</td>\n",
       "      <td>0</td>\n",
       "      <td>0</td>\n",
       "      <td>1</td>\n",
       "      <td>0</td>\n",
       "      <td>3</td>\n",
       "      <td>6</td>\n",
       "      <td>4</td>\n",
       "    </tr>\n",
       "    <tr>\n",
       "      <th>...</th>\n",
       "      <td>...</td>\n",
       "      <td>...</td>\n",
       "      <td>...</td>\n",
       "      <td>...</td>\n",
       "      <td>...</td>\n",
       "      <td>...</td>\n",
       "      <td>...</td>\n",
       "      <td>...</td>\n",
       "      <td>...</td>\n",
       "      <td>...</td>\n",
       "      <td>...</td>\n",
       "      <td>...</td>\n",
       "    </tr>\n",
       "    <tr>\n",
       "      <th>9995</th>\n",
       "      <td>5</td>\n",
       "      <td>0.00</td>\n",
       "      <td>2</td>\n",
       "      <td>1</td>\n",
       "      <td>0</td>\n",
       "      <td>0</td>\n",
       "      <td>0</td>\n",
       "      <td>0</td>\n",
       "      <td>1</td>\n",
       "      <td>2</td>\n",
       "      <td>6</td>\n",
       "      <td>5</td>\n",
       "    </tr>\n",
       "    <tr>\n",
       "      <th>9996</th>\n",
       "      <td>10</td>\n",
       "      <td>57369.61</td>\n",
       "      <td>1</td>\n",
       "      <td>1</td>\n",
       "      <td>1</td>\n",
       "      <td>0</td>\n",
       "      <td>0</td>\n",
       "      <td>0</td>\n",
       "      <td>1</td>\n",
       "      <td>2</td>\n",
       "      <td>1</td>\n",
       "      <td>6</td>\n",
       "    </tr>\n",
       "    <tr>\n",
       "      <th>9997</th>\n",
       "      <td>7</td>\n",
       "      <td>0.00</td>\n",
       "      <td>1</td>\n",
       "      <td>0</td>\n",
       "      <td>1</td>\n",
       "      <td>1</td>\n",
       "      <td>0</td>\n",
       "      <td>0</td>\n",
       "      <td>0</td>\n",
       "      <td>2</td>\n",
       "      <td>5</td>\n",
       "      <td>3</td>\n",
       "    </tr>\n",
       "    <tr>\n",
       "      <th>9998</th>\n",
       "      <td>3</td>\n",
       "      <td>75075.31</td>\n",
       "      <td>2</td>\n",
       "      <td>1</td>\n",
       "      <td>0</td>\n",
       "      <td>1</td>\n",
       "      <td>1</td>\n",
       "      <td>0</td>\n",
       "      <td>1</td>\n",
       "      <td>2</td>\n",
       "      <td>6</td>\n",
       "      <td>5</td>\n",
       "    </tr>\n",
       "    <tr>\n",
       "      <th>9999</th>\n",
       "      <td>4</td>\n",
       "      <td>130142.79</td>\n",
       "      <td>1</td>\n",
       "      <td>1</td>\n",
       "      <td>0</td>\n",
       "      <td>0</td>\n",
       "      <td>0</td>\n",
       "      <td>0</td>\n",
       "      <td>0</td>\n",
       "      <td>2</td>\n",
       "      <td>6</td>\n",
       "      <td>2</td>\n",
       "    </tr>\n",
       "  </tbody>\n",
       "</table>\n",
       "<p>10000 rows × 12 columns</p>\n",
       "</div>"
      ],
      "text/plain": [
       "      Tenure    Balance  NumOfProducts  HasCrCard  IsActiveMember  Exited  \\\n",
       "0          2       0.00              1          1               1       1   \n",
       "1          1   83807.86              1          0               1       0   \n",
       "2          8  159660.80              3          1               0       1   \n",
       "3          1       0.00              2          0               0       0   \n",
       "4          2  125510.82              1          1               1       0   \n",
       "...      ...        ...            ...        ...             ...     ...   \n",
       "9995       5       0.00              2          1               0       0   \n",
       "9996      10   57369.61              1          1               1       0   \n",
       "9997       7       0.00              1          0               1       1   \n",
       "9998       3   75075.31              2          1               0       1   \n",
       "9999       4  130142.79              1          1               0       0   \n",
       "\n",
       "      Geography_Germany  Geography_Spain  Gender_Male NewAge NewCreditsScore  \\\n",
       "0                     0                0            0      2               3   \n",
       "1                     0                1            0      2               2   \n",
       "2                     0                0            0      2               1   \n",
       "3                     0                0            0      2               5   \n",
       "4                     0                1            0      3               6   \n",
       "...                 ...              ...          ...    ...             ...   \n",
       "9995                  0                0            1      2               6   \n",
       "9996                  0                0            1      2               1   \n",
       "9997                  0                0            0      2               5   \n",
       "9998                  1                0            1      2               6   \n",
       "9999                  0                0            0      2               6   \n",
       "\n",
       "     NewEstSalaryScore  \n",
       "0                    6  \n",
       "1                    6  \n",
       "2                    6  \n",
       "3                    5  \n",
       "4                    4  \n",
       "...                ...  \n",
       "9995                 5  \n",
       "9996                 6  \n",
       "9997                 3  \n",
       "9998                 5  \n",
       "9999                 2  \n",
       "\n",
       "[10000 rows x 12 columns]"
      ]
     },
     "execution_count": 15,
     "metadata": {},
     "output_type": "execute_result"
    }
   ],
   "source": [
    "new_features (df)"
   ]
  },
  {
   "cell_type": "markdown",
   "metadata": {},
   "source": [
    "### Feature Scaling\n"
   ]
  },
  {
   "cell_type": "markdown",
   "metadata": {},
   "source": [
    "(defining a function to combine scaling, engineering, and categorcial dealing and to apply to the test set)"
   ]
  },
  {
   "cell_type": "markdown",
   "metadata": {},
   "source": [
    "### Naive Model\n",
    "Predict the majority class for each observation (George)"
   ]
  },
  {
   "cell_type": "markdown",
   "metadata": {},
   "source": [
    "### Baseline Model\n",
    "Logistic Regression (Tim) "
   ]
  },
  {
   "cell_type": "code",
   "execution_count": 16,
   "metadata": {},
   "outputs": [
    {
     "name": "stdout",
     "output_type": "stream",
     "text": [
      "Intercept =  [-1.02649409]\n",
      "Model coefficients =  [[-0.05856876  0.76595827 -0.03360309  0.16628818 -0.04138279 -0.0736264\n",
      "  -1.08769911  0.01344806  0.83466233  0.0485198  -0.52628182]]\n",
      "R^2 = 0.8095\n"
     ]
    }
   ],
   "source": [
    "# Train logistic model on the training set\n",
    "logm_train = LogisticRegression(max_iter=2000).fit(X_train,Y_train.values.ravel()) \n",
    "print(\"Intercept = \",logm_train.intercept_)\n",
    "print(\"Model coefficients = \", logm_train.coef_)\n",
    "print(\"R^2 =\",logm_train.score(X_train, Y_train))"
   ]
  },
  {
   "cell_type": "code",
   "execution_count": 17,
   "metadata": {},
   "outputs": [
    {
     "data": {
      "image/png": "[encoded data removed]",
      "text/plain": [
       "<Figure size 576x288 with 1 Axes>"
      ]
     },
     "metadata": {},
     "output_type": "display_data"
    },
    {
     "name": "stdout",
     "output_type": "stream",
     "text": [
      "roc_auc_score 0.7350450509628754\n",
      "Threshold =  0.17501184361799998\n"
     ]
    }
   ],
   "source": [
    "# Use validation set to pick right threshold\n",
    "# fit the validation data to the trian model\n",
    "Y_probs =logm_train.predict_proba(X_valid)[:,1]\n",
    "# get the fpr tpr score\n",
    "fpr, tpr, thresholds = metrics.roc_curve(Y_valid,Y_probs)\n",
    "plt.plot(fpr, tpr, linewidth=4)\n",
    "plt.show()\n",
    "#check the ROC score\n",
    "print('roc_auc_score',roc_auc_score(Y_valid,Y_probs))\n",
    "# get the threshold\n",
    "threshold = thresholds[np.argmax(tpr - fpr)]\n",
    "print(\"Threshold = \",threshold)"
   ]
  },
  {
   "cell_type": "code",
   "execution_count": 18,
   "metadata": {},
   "outputs": [
    {
     "name": "stdout",
     "output_type": "stream",
     "text": [
      "Intercept =  [-1.04492256]\n",
      "Model coefficients =  [[-0.06037502  0.73777081 -0.03824067  0.175221   -0.06389525 -0.06584423\n",
      "  -1.01251856  0.02636659  0.7861512   0.07896721 -0.54637914]]\n",
      "R^2 = 0.8088\n"
     ]
    }
   ],
   "source": [
    "# Retraining the final model with training+validation\n",
    "train_val_X = pd.concat([X_train, X_valid])\n",
    "train_val_Y = pd.concat([Y_train, Y_valid])\n",
    "\n",
    "logm = LogisticRegression(max_iter=2000).fit(train_val_X, train_val_Y.values.ravel())\n",
    "print(\"Intercept = \",logm.intercept_)\n",
    "print(\"Model coefficients = \", logm.coef_)\n",
    "print(\"R^2 =\",logm.score(train_val_X, train_val_Y))"
   ]
  },
  {
   "cell_type": "code",
   "execution_count": 19,
   "metadata": {},
   "outputs": [
    {
     "name": "stdout",
     "output_type": "stream",
     "text": [
      "Accuracy =  0.6624\n",
      "[[1263  728]\n",
      " [ 116  393]]\n"
     ]
    },
    {
     "data": {
      "image/png": "[encoded data removed]",
      "text/plain": [
       "<Figure size 576x288 with 1 Axes>"
      ]
     },
     "metadata": {},
     "output_type": "display_data"
    },
    {
     "data": {
      "text/plain": [
       "0.7787548881558368"
      ]
     },
     "execution_count": 19,
     "metadata": {},
     "output_type": "execute_result"
    }
   ],
   "source": [
    "# Test the accuracy of training + validation logistic model on the testing set\n",
    "# test dataset to check accuracy_score\n",
    "Y_probs_test =logm.predict_proba(X_test)[:,1]\n",
    "Y_pred_test = np.where(Y_probs_test > threshold, 1, 0) #imput the threshold\n",
    "cm = confusion_matrix(Y_test,Y_pred_test)\n",
    "TN = cm[0][0]\n",
    "FP = cm[0][1]\n",
    "FN = cm[1][0]\n",
    "TP = cm[1][1]\n",
    "print(\"Accuracy = \",(TP+TN)/(TP+TN+FP+FN)) # or metrics.accuracy_score(Y_test,Y_pred_test)\n",
    "print(cm)\n",
    "\n",
    "# get the fpr tpr score\n",
    "fpr, tpr, thresholds = metrics.roc_curve(Y_test,Y_probs_test)\n",
    "plt.plot(fpr, tpr, linewidth=4)\n",
    "plt.show()\n",
    "#check the ROC score\n",
    "roc_auc_score(Y_test,Y_probs_test)"
   ]
  },
  {
   "cell_type": "markdown",
   "metadata": {},
   "source": [
    "### Classifiers: SVM, DT, RF, kNN, Gradient Boosting Classifier\n",
    "\n",
    "SVM: Tim\\\n",
    "RF: Siyuan\\\n",
    "DT: Agam\\\n",
    "kNN: Tiana\\\n",
    "Gradient Boosting Classifier: George"
   ]
  },
  {
   "cell_type": "markdown",
   "metadata": {},
   "source": [
    "#### SVM"
   ]
  },
  {
   "cell_type": "code",
   "execution_count": 20,
   "metadata": {},
   "outputs": [],
   "source": [
    "from sklearn import svm\n",
    "from sklearn.model_selection import cross_val_score\n",
    "from sklearn.svm import SVC"
   ]
  },
  {
   "cell_type": "code",
   "execution_count": 21,
   "metadata": {},
   "outputs": [
    {
     "name": "stdout",
     "output_type": "stream",
     "text": [
      "(7500, 11) (7500,)\n",
      "(2500, 11) (2500,)\n"
     ]
    }
   ],
   "source": [
    "# concat the training and validation sets\n",
    "X_train_val = pd.concat([X_train, X_valid])\n",
    "Y_train_val = pd.concat([Y_train, Y_valid])\n",
    "print(X_train_val.shape, Y_train_val.shape)\n",
    "print(X_test.shape, Y_test.shape)"
   ]
  },
  {
   "cell_type": "code",
   "execution_count": 22,
   "metadata": {},
   "outputs": [
    {
     "name": "stdout",
     "output_type": "stream",
     "text": [
      "0.80 accuracy with a standard deviation of 0.00\n"
     ]
    },
    {
     "data": {
      "text/plain": [
       "0.7964"
      ]
     },
     "execution_count": 22,
     "metadata": {},
     "output_type": "execute_result"
    }
   ],
   "source": [
    "# benchmarking SVM\n",
    "svm_model = svm.SVC(kernel='linear',\n",
    "                     C=1, \n",
    "                     gamma='auto',\n",
    "                      random_state=42)\n",
    "# svm_model.fit(X_train_val, Y_train_val.values.ravel())\n",
    "scores = cross_val_score(svm_model, X_train_val, Y_train_val, cv=10)\n",
    "# scores\n",
    "print(\"%0.2f accuracy with a standard deviation of %0.2f\" % (scores.mean(), scores.std()))\n",
    "\n",
    "# predict the test set\n",
    "svm_model = svm.SVC(kernel='linear',\n",
    "                 gamma='auto', \n",
    "                 C=1, \n",
    "                 random_state=42).fit(X_train_val, Y_train_val)\n",
    "svm_model.score(X_test, Y_test)"
   ]
  },
  {
   "cell_type": "code",
   "execution_count": 23,
   "metadata": {},
   "outputs": [
    {
     "name": "stdout",
     "output_type": "stream",
     "text": [
      "[[1991    0]\n",
      " [ 509    0]]\n",
      "\n",
      "\n",
      "              precision    recall  f1-score   support\n",
      "\n",
      "           0       0.80      1.00      0.89      1991\n",
      "           1       0.00      0.00      0.00       509\n",
      "\n",
      "    accuracy                           0.80      2500\n",
      "   macro avg       0.40      0.50      0.44      2500\n",
      "weighted avg       0.63      0.80      0.71      2500\n",
      "\n"
     ]
    },
    {
     "name": "stderr",
     "output_type": "stream",
     "text": [
      "/opt/anaconda3/lib/python3.9/site-packages/sklearn/metrics/_classification.py:1248: UndefinedMetricWarning: Precision and F-score are ill-defined and being set to 0.0 in labels with no predicted samples. Use `zero_division` parameter to control this behavior.\n",
      "  _warn_prf(average, modifier, msg_start, len(result))\n",
      "/opt/anaconda3/lib/python3.9/site-packages/sklearn/metrics/_classification.py:1248: UndefinedMetricWarning: Precision and F-score are ill-defined and being set to 0.0 in labels with no predicted samples. Use `zero_division` parameter to control this behavior.\n",
      "  _warn_prf(average, modifier, msg_start, len(result))\n",
      "/opt/anaconda3/lib/python3.9/site-packages/sklearn/metrics/_classification.py:1248: UndefinedMetricWarning: Precision and F-score are ill-defined and being set to 0.0 in labels with no predicted samples. Use `zero_division` parameter to control this behavior.\n",
      "  _warn_prf(average, modifier, msg_start, len(result))\n"
     ]
    }
   ],
   "source": [
    "# predict on the validation set\n",
    "predictions = svm_model.predict(X_test)\n",
    "\n",
    "# # accuracy_score\n",
    "# print(svm_model.score(X_train,Y_train))\n",
    "# print(svm_model.score(X_valid, Y_valid))\n",
    "\n",
    "#載入classification report & confusion matrix\n",
    "from sklearn.metrics import classification_report, confusion_matrix\n",
    "print(confusion_matrix(Y_test,predictions))\n",
    "print('\\n')\n",
    "print(classification_report(Y_test,predictions))"
   ]
  },
  {
   "cell_type": "markdown",
   "metadata": {},
   "source": [
    "parameter adjusting"
   ]
  },
  {
   "cell_type": "code",
   "execution_count": 24,
   "metadata": {},
   "outputs": [
    {
     "data": {
      "text/plain": [
       "SVC()"
      ]
     },
     "execution_count": 24,
     "metadata": {},
     "output_type": "execute_result"
    }
   ],
   "source": [
    "svm_model_modify = SVC() # 這邊先建立未調參前的模型\n",
    "#使用Support Vector Classifier來建立模型\n",
    "svm_model_modify.fit(X_train_val,Y_train_val)"
   ]
  },
  {
   "cell_type": "code",
   "execution_count": 25,
   "metadata": {},
   "outputs": [],
   "source": [
    "#結果發現，分類結果都只出現在特定的類別，所以要修正模型\n",
    "#載入GridSearchCV\n",
    "# kernel = 'linear', 'poly', 'rbf', 'sigmoid'\n",
    "# C (penalty): the defult is 1\n",
    "# higher C means less regularization, but lower will be too overfitted\n",
    "# gamma (kernel coefficient): the default is 1/n_features\n",
    "# ’scale’: 1/ (n_features * (n_features + 1) / 2) (default)\n",
    "# ’auto’: 1/n_features if n_features > 1, otherwise 1\n",
    "from sklearn.model_selection import GridSearchCV\n",
    "#GridSearchCV是建立一個dictionary來組合要測試的參數\n",
    "param_grid = {\n",
    "        'C':[0.1,1,10,100,1000],\n",
    "        'gamma':[1,0.1,0.01,0.001,0.0001],\n",
    "        # 'kernel':['linear', 'poly', 'rbf', 'sigmoid'],\n",
    "        # 'gamma': ['scale', 'auto']\n",
    "        }"
   ]
  },
  {
   "cell_type": "code",
   "execution_count": 26,
   "metadata": {},
   "outputs": [],
   "source": [
    "#GridSearchCV算是一個meta-estimator，參數中帶有estimator，像是SVC。\n",
    "# 重點是會創造一個新的estimator，但又表現得一模一樣，\n",
    "# 也就是estimator=SVC時，就是作為分類器\n",
    "#Verbose可設定為任一整數，它只是代表數字越高，文字解釋越多\n",
    "grid = GridSearchCV(SVC(),param_grid,verbose=3)"
   ]
  },
  {
   "cell_type": "code",
   "execution_count": 27,
   "metadata": {},
   "outputs": [
    {
     "name": "stdout",
     "output_type": "stream",
     "text": [
      "Fitting 5 folds for each of 25 candidates, totalling 125 fits\n",
      "[CV 1/5] END ....................C=0.1, gamma=1;, score=0.797 total time=   2.7s\n",
      "[CV 2/5] END ....................C=0.1, gamma=1;, score=0.797 total time=   2.7s\n",
      "[CV 3/5] END ....................C=0.1, gamma=1;, score=0.796 total time=   2.9s\n",
      "[CV 4/5] END ....................C=0.1, gamma=1;, score=0.796 total time=   2.7s\n",
      "[CV 5/5] END ....................C=0.1, gamma=1;, score=0.796 total time=   2.7s\n",
      "[CV 1/5] END ..................C=0.1, gamma=0.1;, score=0.823 total time=   1.5s\n",
      "[CV 2/5] END ..................C=0.1, gamma=0.1;, score=0.815 total time=   1.6s\n",
      "[CV 3/5] END ..................C=0.1, gamma=0.1;, score=0.817 total time=   1.5s\n",
      "[CV 4/5] END ..................C=0.1, gamma=0.1;, score=0.817 total time=   1.5s\n",
      "[CV 5/5] END ..................C=0.1, gamma=0.1;, score=0.817 total time=   1.5s\n",
      "[CV 1/5] END .................C=0.1, gamma=0.01;, score=0.797 total time=   1.6s\n",
      "[CV 2/5] END .................C=0.1, gamma=0.01;, score=0.797 total time=   1.6s\n",
      "[CV 3/5] END .................C=0.1, gamma=0.01;, score=0.796 total time=   1.6s\n",
      "[CV 4/5] END .................C=0.1, gamma=0.01;, score=0.796 total time=   1.6s\n",
      "[CV 5/5] END .................C=0.1, gamma=0.01;, score=0.796 total time=   1.6s\n",
      "[CV 1/5] END ................C=0.1, gamma=0.001;, score=0.797 total time=   1.5s\n",
      "[CV 2/5] END ................C=0.1, gamma=0.001;, score=0.797 total time=   1.5s\n",
      "[CV 3/5] END ................C=0.1, gamma=0.001;, score=0.796 total time=   1.5s\n",
      "[CV 4/5] END ................C=0.1, gamma=0.001;, score=0.796 total time=   1.5s\n",
      "[CV 5/5] END ................C=0.1, gamma=0.001;, score=0.796 total time=   1.5s\n",
      "[CV 1/5] END ...............C=0.1, gamma=0.0001;, score=0.797 total time=   1.4s\n",
      "[CV 2/5] END ...............C=0.1, gamma=0.0001;, score=0.797 total time=   1.5s\n",
      "[CV 3/5] END ...............C=0.1, gamma=0.0001;, score=0.796 total time=   1.5s\n",
      "[CV 4/5] END ...............C=0.1, gamma=0.0001;, score=0.796 total time=   1.4s\n",
      "[CV 5/5] END ...............C=0.1, gamma=0.0001;, score=0.796 total time=   1.5s\n",
      "[CV 1/5] END ......................C=1, gamma=1;, score=0.820 total time=   3.0s\n",
      "[CV 2/5] END ......................C=1, gamma=1;, score=0.819 total time=   3.0s\n",
      "[CV 3/5] END ......................C=1, gamma=1;, score=0.815 total time=   3.0s\n",
      "[CV 4/5] END ......................C=1, gamma=1;, score=0.816 total time=   3.0s\n",
      "[CV 5/5] END ......................C=1, gamma=1;, score=0.819 total time=   3.0s\n",
      "[CV 1/5] END ....................C=1, gamma=0.1;, score=0.858 total time=   1.4s\n",
      "[CV 2/5] END ....................C=1, gamma=0.1;, score=0.855 total time=   1.4s\n",
      "[CV 3/5] END ....................C=1, gamma=0.1;, score=0.861 total time=   1.4s\n",
      "[CV 4/5] END ....................C=1, gamma=0.1;, score=0.853 total time=   1.4s\n",
      "[CV 5/5] END ....................C=1, gamma=0.1;, score=0.845 total time=   1.4s\n",
      "[CV 1/5] END ...................C=1, gamma=0.01;, score=0.806 total time=   1.5s\n",
      "[CV 2/5] END ...................C=1, gamma=0.01;, score=0.803 total time=   1.5s\n",
      "[CV 3/5] END ...................C=1, gamma=0.01;, score=0.801 total time=   1.5s\n",
      "[CV 4/5] END ...................C=1, gamma=0.01;, score=0.803 total time=   1.5s\n",
      "[CV 5/5] END ...................C=1, gamma=0.01;, score=0.800 total time=   1.5s\n",
      "[CV 1/5] END ..................C=1, gamma=0.001;, score=0.797 total time=   1.6s\n",
      "[CV 2/5] END ..................C=1, gamma=0.001;, score=0.797 total time=   1.6s\n",
      "[CV 3/5] END ..................C=1, gamma=0.001;, score=0.796 total time=   1.6s\n",
      "[CV 4/5] END ..................C=1, gamma=0.001;, score=0.796 total time=   1.6s\n",
      "[CV 5/5] END ..................C=1, gamma=0.001;, score=0.796 total time=   1.6s\n",
      "[CV 1/5] END .................C=1, gamma=0.0001;, score=0.797 total time=   1.5s\n",
      "[CV 2/5] END .................C=1, gamma=0.0001;, score=0.797 total time=   1.5s\n",
      "[CV 3/5] END .................C=1, gamma=0.0001;, score=0.796 total time=   1.5s\n",
      "[CV 4/5] END .................C=1, gamma=0.0001;, score=0.796 total time=   1.5s\n",
      "[CV 5/5] END .................C=1, gamma=0.0001;, score=0.796 total time=   1.5s\n",
      "[CV 1/5] END .....................C=10, gamma=1;, score=0.791 total time=   3.1s\n",
      "[CV 2/5] END .....................C=10, gamma=1;, score=0.789 total time=   3.1s\n",
      "[CV 3/5] END .....................C=10, gamma=1;, score=0.803 total time=   3.2s\n",
      "[CV 4/5] END .....................C=10, gamma=1;, score=0.797 total time=   3.1s\n",
      "[CV 5/5] END .....................C=10, gamma=1;, score=0.797 total time=   3.1s\n",
      "[CV 1/5] END ...................C=10, gamma=0.1;, score=0.853 total time=   1.7s\n",
      "[CV 2/5] END ...................C=10, gamma=0.1;, score=0.862 total time=   1.6s\n",
      "[CV 3/5] END ...................C=10, gamma=0.1;, score=0.861 total time=   1.7s\n",
      "[CV 4/5] END ...................C=10, gamma=0.1;, score=0.847 total time=   1.6s\n",
      "[CV 5/5] END ...................C=10, gamma=0.1;, score=0.853 total time=   1.7s\n",
      "[CV 1/5] END ..................C=10, gamma=0.01;, score=0.853 total time=   1.5s\n",
      "[CV 2/5] END ..................C=10, gamma=0.01;, score=0.845 total time=   1.5s\n",
      "[CV 3/5] END ..................C=10, gamma=0.01;, score=0.848 total time=   1.5s\n",
      "[CV 4/5] END ..................C=10, gamma=0.01;, score=0.850 total time=   1.5s\n",
      "[CV 5/5] END ..................C=10, gamma=0.01;, score=0.843 total time=   1.5s\n",
      "[CV 1/5] END .................C=10, gamma=0.001;, score=0.797 total time=   1.7s\n",
      "[CV 2/5] END .................C=10, gamma=0.001;, score=0.797 total time=   1.7s\n",
      "[CV 3/5] END .................C=10, gamma=0.001;, score=0.796 total time=   1.7s\n",
      "[CV 4/5] END .................C=10, gamma=0.001;, score=0.796 total time=   1.7s\n",
      "[CV 5/5] END .................C=10, gamma=0.001;, score=0.796 total time=   1.7s\n",
      "[CV 1/5] END ................C=10, gamma=0.0001;, score=0.797 total time=   1.7s\n",
      "[CV 2/5] END ................C=10, gamma=0.0001;, score=0.797 total time=   1.8s\n",
      "[CV 3/5] END ................C=10, gamma=0.0001;, score=0.796 total time=   1.8s\n",
      "[CV 4/5] END ................C=10, gamma=0.0001;, score=0.796 total time=   1.7s\n",
      "[CV 5/5] END ................C=10, gamma=0.0001;, score=0.796 total time=   1.7s\n",
      "[CV 1/5] END ....................C=100, gamma=1;, score=0.791 total time=   3.2s\n",
      "[CV 2/5] END ....................C=100, gamma=1;, score=0.785 total time=   3.1s\n",
      "[CV 3/5] END ....................C=100, gamma=1;, score=0.802 total time=   3.2s\n",
      "[CV 4/5] END ....................C=100, gamma=1;, score=0.791 total time=   3.1s\n",
      "[CV 5/5] END ....................C=100, gamma=1;, score=0.791 total time=   3.1s\n",
      "[CV 1/5] END ..................C=100, gamma=0.1;, score=0.828 total time=   2.8s\n",
      "[CV 2/5] END ..................C=100, gamma=0.1;, score=0.836 total time=   3.1s\n",
      "[CV 3/5] END ..................C=100, gamma=0.1;, score=0.840 total time=   3.1s\n",
      "[CV 4/5] END ..................C=100, gamma=0.1;, score=0.823 total time=   2.8s\n",
      "[CV 5/5] END ..................C=100, gamma=0.1;, score=0.841 total time=   2.9s\n",
      "[CV 1/5] END .................C=100, gamma=0.01;, score=0.857 total time=   1.7s\n",
      "[CV 2/5] END .................C=100, gamma=0.01;, score=0.852 total time=   1.7s\n",
      "[CV 3/5] END .................C=100, gamma=0.01;, score=0.860 total time=   1.7s\n",
      "[CV 4/5] END .................C=100, gamma=0.01;, score=0.853 total time=   1.7s\n",
      "[CV 5/5] END .................C=100, gamma=0.01;, score=0.846 total time=   1.7s\n",
      "[CV 1/5] END ................C=100, gamma=0.001;, score=0.806 total time=   1.6s\n",
      "[CV 2/5] END ................C=100, gamma=0.001;, score=0.803 total time=   1.7s\n",
      "[CV 3/5] END ................C=100, gamma=0.001;, score=0.801 total time=   1.7s\n",
      "[CV 4/5] END ................C=100, gamma=0.001;, score=0.804 total time=   1.7s\n",
      "[CV 5/5] END ................C=100, gamma=0.001;, score=0.801 total time=   1.6s\n",
      "[CV 1/5] END ...............C=100, gamma=0.0001;, score=0.797 total time=   1.9s\n",
      "[CV 2/5] END ...............C=100, gamma=0.0001;, score=0.797 total time=   2.0s\n",
      "[CV 3/5] END ...............C=100, gamma=0.0001;, score=0.796 total time=   2.0s\n",
      "[CV 4/5] END ...............C=100, gamma=0.0001;, score=0.796 total time=   1.9s\n",
      "[CV 5/5] END ...............C=100, gamma=0.0001;, score=0.796 total time=   1.9s\n",
      "[CV 1/5] END ...................C=1000, gamma=1;, score=0.791 total time=   3.1s\n",
      "[CV 2/5] END ...................C=1000, gamma=1;, score=0.785 total time=   3.1s\n",
      "[CV 3/5] END ...................C=1000, gamma=1;, score=0.802 total time=   3.1s\n",
      "[CV 4/5] END ...................C=1000, gamma=1;, score=0.791 total time=   3.1s\n",
      "[CV 5/5] END ...................C=1000, gamma=1;, score=0.791 total time=   3.1s\n",
      "[CV 1/5] END .................C=1000, gamma=0.1;, score=0.795 total time=   8.6s\n",
      "[CV 2/5] END .................C=1000, gamma=0.1;, score=0.798 total time=   9.3s\n",
      "[CV 3/5] END .................C=1000, gamma=0.1;, score=0.809 total time=   9.9s\n",
      "[CV 4/5] END .................C=1000, gamma=0.1;, score=0.791 total time=   8.0s\n",
      "[CV 5/5] END .................C=1000, gamma=0.1;, score=0.804 total time=   8.8s\n",
      "[CV 1/5] END ................C=1000, gamma=0.01;, score=0.857 total time=   3.7s\n",
      "[CV 2/5] END ................C=1000, gamma=0.01;, score=0.859 total time=   3.5s\n",
      "[CV 3/5] END ................C=1000, gamma=0.01;, score=0.864 total time=   3.6s\n",
      "[CV 4/5] END ................C=1000, gamma=0.01;, score=0.853 total time=   3.6s\n",
      "[CV 5/5] END ................C=1000, gamma=0.01;, score=0.849 total time=   3.7s\n",
      "[CV 1/5] END ...............C=1000, gamma=0.001;, score=0.852 total time=   1.9s\n",
      "[CV 2/5] END ...............C=1000, gamma=0.001;, score=0.847 total time=   1.9s\n",
      "[CV 3/5] END ...............C=1000, gamma=0.001;, score=0.851 total time=   2.0s\n",
      "[CV 4/5] END ...............C=1000, gamma=0.001;, score=0.851 total time=   1.9s\n",
      "[CV 5/5] END ...............C=1000, gamma=0.001;, score=0.843 total time=   1.8s\n",
      "[CV 1/5] END ..............C=1000, gamma=0.0001;, score=0.797 total time=   2.1s\n",
      "[CV 2/5] END ..............C=1000, gamma=0.0001;, score=0.797 total time=   2.2s\n",
      "[CV 3/5] END ..............C=1000, gamma=0.0001;, score=0.796 total time=   2.3s\n",
      "[CV 4/5] END ..............C=1000, gamma=0.0001;, score=0.796 total time=   2.0s\n",
      "[CV 5/5] END ..............C=1000, gamma=0.0001;, score=0.796 total time=   2.1s\n"
     ]
    },
    {
     "data": {
      "text/plain": [
       "GridSearchCV(estimator=SVC(),\n",
       "             param_grid={'C': [0.1, 1, 10, 100, 1000],\n",
       "                         'gamma': [1, 0.1, 0.01, 0.001, 0.0001]},\n",
       "             verbose=3)"
      ]
     },
     "execution_count": 27,
     "metadata": {},
     "output_type": "execute_result"
    }
   ],
   "source": [
    "#利用剛剛設定的參數來找到最適合的模型\n",
    "grid.fit(X_train_val,Y_train_val)"
   ]
  },
  {
   "cell_type": "code",
   "execution_count": 28,
   "metadata": {},
   "outputs": [
    {
     "data": {
      "text/plain": [
       "SVC(C=1000, gamma=0.01)"
      ]
     },
     "execution_count": 28,
     "metadata": {},
     "output_type": "execute_result"
    }
   ],
   "source": [
    "#顯示最佳estimator參數\n",
    "grid.best_estimator_\n"
   ]
  },
  {
   "cell_type": "code",
   "execution_count": 29,
   "metadata": {},
   "outputs": [
    {
     "name": "stdout",
     "output_type": "stream",
     "text": [
      "[[1940   51]\n",
      " [ 291  218]]\n",
      "\n",
      "\n",
      "              precision    recall  f1-score   support\n",
      "\n",
      "           0       0.87      0.97      0.92      1991\n",
      "           1       0.81      0.43      0.56       509\n",
      "\n",
      "    accuracy                           0.86      2500\n",
      "   macro avg       0.84      0.70      0.74      2500\n",
      "weighted avg       0.86      0.86      0.85      2500\n",
      "\n"
     ]
    }
   ],
   "source": [
    "#利用剛剛的最佳參考再重新預測測試組\n",
    "grid_predictions = grid.predict(X_test)\n",
    "\n",
    "#評估新參考的預測結果好壞\n",
    "print(confusion_matrix(Y_test,grid_predictions))\n",
    "print('\\n')\n",
    "print(classification_report(Y_test,grid_predictions))"
   ]
  },
  {
   "cell_type": "markdown",
   "metadata": {},
   "source": [
    "#### Decision Tree"
   ]
  },
  {
   "cell_type": "code",
   "execution_count": 20,
   "metadata": {},
   "outputs": [
    {
     "name": "stdout",
     "output_type": "stream",
     "text": [
      "Unoptimised Tree Accuracy: 0.7946666666666666\n"
     ]
    }
   ],
   "source": [
    "# first lets at an unpotimised tree\n",
    "clf = DecisionTreeClassifier(random_state=0)\n",
    "clf.fit(X_train, Y_train)\n",
    "print('Unoptimised Tree Accuracy:', accuracy_score(Y_valid, clf.predict(X_valid)))"
   ]
  },
  {
   "cell_type": "code",
   "execution_count": 21,
   "metadata": {},
   "outputs": [
    {
     "data": {
      "text/plain": [
       "Text(0, 0.5, 'total impurity of leaves')"
      ]
     },
     "execution_count": 21,
     "metadata": {},
     "output_type": "execute_result"
    },
    {
     "data": {
      "image/png": "[encoded data removed]",
      "text/plain": [
       "<Figure size 720x432 with 1 Axes>"
      ]
     },
     "metadata": {},
     "output_type": "display_data"
    }
   ],
   "source": [
    "clf=DecisionTreeClassifier(random_state=0)\n",
    "path = clf.cost_complexity_pruning_path(X_train, Y_train) #computing the alpha and corresponding impurities\n",
    "ccp_alphas, impurities = path.ccp_alphas, path.impurities\n",
    "plt.figure(figsize=(10, 6))\n",
    "plt.plot(ccp_alphas, impurities)\n",
    "plt.xlabel(\"effective alpha\")\n",
    "plt.ylabel(\"total impurity of leaves\")\n",
    "#As alpha increases, so does the impurity of the leaves. The graph shows different values of alpha and the corresponding impurities.\n",
    "#The goal is to pick an alpha that renders a tree that is not very impure and with not too many splits that it overfits.\n",
    "#Seems like the value may lie between 0 and 0.005. "
   ]
  },
  {
   "cell_type": "code",
   "execution_count": 22,
   "metadata": {},
   "outputs": [],
   "source": [
    "clfs = []\n",
    "for ccp_alpha in ccp_alphas:\n",
    "    clf = DecisionTreeClassifier(random_state=0, ccp_alpha=ccp_alpha)\n",
    "    clf.fit(X_train, Y_train)\n",
    "    clfs.append(clf)"
   ]
  },
  {
   "cell_type": "code",
   "execution_count": 23,
   "metadata": {},
   "outputs": [
    {
     "data": {
      "text/plain": [
       "Text(0, 0.5, 'total depth')"
      ]
     },
     "execution_count": 23,
     "metadata": {},
     "output_type": "execute_result"
    },
    {
     "data": {
      "image/png": "[encoded data removed]",
      "text/plain": [
       "<Figure size 720x432 with 1 Axes>"
      ]
     },
     "metadata": {},
     "output_type": "display_data"
    }
   ],
   "source": [
    "tree_depths = [clf.tree_.max_depth for clf in clfs]\n",
    "plt.figure(figsize=(10,  6))\n",
    "plt.plot(ccp_alphas[:-1], tree_depths[:-1])\n",
    "plt.xlabel(\"effective alpha\")\n",
    "plt.ylabel(\"total depth\")"
   ]
  },
  {
   "cell_type": "code",
   "execution_count": 24,
   "metadata": {},
   "outputs": [
    {
     "data": {
      "text/plain": [
       "Text(0, 0.5, 'Accuracy scores')"
      ]
     },
     "execution_count": 24,
     "metadata": {},
     "output_type": "execute_result"
    },
    {
     "data": {
      "image/png": "[encoded data removed]",
      "text/plain": [
       "<Figure size 720x432 with 1 Axes>"
      ]
     },
     "metadata": {},
     "output_type": "display_data"
    }
   ],
   "source": [
    "acc_scores = [accuracy_score(Y_valid, clf.predict(X_valid)) for clf in clfs]\n",
    "\n",
    "tree_depths = [clf.tree_.max_depth for clf in clfs]\n",
    "plt.figure(figsize=(10,  6))\n",
    "plt.grid()\n",
    "plt.plot(ccp_alphas[:-1], acc_scores[:-1]) #removing the larger alpha - the last one\n",
    "plt.xlabel(\"effective alpha\")\n",
    "plt.ylabel(\"Accuracy scores\")"
   ]
  },
  {
   "cell_type": "code",
   "execution_count": 25,
   "metadata": {},
   "outputs": [
    {
     "name": "stdout",
     "output_type": "stream",
     "text": [
      "Optimised Model Alpha: 0.0003771547022924014\n",
      "Optimised Model Depth: 17\n",
      "Optimised Model Accuracy: 0.8593333333333333\n"
     ]
    }
   ],
   "source": [
    "print('Optimised Model Alpha:', ccp_alphas[np.argmax(acc_scores)])\n",
    "print('Optimised Model Depth:', tree_depths[np.argmax(acc_scores)])\n",
    "print('Optimised Model Accuracy:', np.max(acc_scores))\n",
    "\n",
    "final_tree = clfs[np.argmax(acc_scores)]"
   ]
  },
  {
   "cell_type": "markdown",
   "metadata": {},
   "source": [
    "#### Gradient Boosting Classifier"
   ]
  },
  {
   "cell_type": "code",
   "execution_count": 26,
   "metadata": {},
   "outputs": [],
   "source": [
    "# Creating a fuction to create and display the confusion matrix\n",
    "def c_m(y_test, y_pred):\n",
    "    # Creating the confusion matrix\n",
    "    cm = confusion_matrix(y_test,y_pred)\n",
    "    TN = cm[0][0]\n",
    "    FP = cm[0][1]\n",
    "    FN = cm[1][0]\n",
    "    TP = cm[1][1]\n",
    "\n",
    "    # Visualizing the Confusion Matrix\n",
    "    fig1 = plt.figure()\n",
    "    ax1 = fig.add_subplot(1,1,1)\n",
    "    sns.heatmap(pd.DataFrame(cm), annot=True, cmap=\"YlGnBu\" ,fmt='g')\n",
    "    plt.ylabel('Actual Results')\n",
    "    plt.xlabel('Predicted Results')\n",
    "    ax1.xaxis.set_label_position(\"top\")\n",
    "\n",
    "    print(\"Model's Accuracy:\", (TP+TN)/(TN+TP+FN+FP))\n",
    "    print(\"Model's Misclassification:\", (FP+FN)/(TN+TP+FN+FP))\n",
    "    print(\"Model's Specificity:\", TN/(FP+TN))\n",
    "    print(\"Model's Sensitivity:\", TP/(TP+FN))"
   ]
  },
  {
   "cell_type": "code",
   "execution_count": 27,
   "metadata": {},
   "outputs": [
    {
     "name": "stdout",
     "output_type": "stream",
     "text": [
      "==================\n",
      "Model's Accuracy: 0.858\n",
      "Model's Misclassification: 0.142\n",
      "Model's Specificity: 0.8685199098422239\n",
      "Model's Sensitivity: 0.7751479289940828\n"
     ]
    },
    {
     "data": {
      "image/png": "[encoded data removed]",
      "text/plain": [
       "<Figure size 576x288 with 2 Axes>"
      ]
     },
     "metadata": {},
     "output_type": "display_data"
    }
   ],
   "source": [
    "# Creating the baseline model of Gradient Boosting Classifier\n",
    "\n",
    "gb = GradientBoostingClassifier(random_state=0)\n",
    "# Fit the model\n",
    "gb.fit(X_train, Y_train)\n",
    "# Use the model to predict\n",
    "y_pred = gb.predict(X_valid)   \n",
    "print('==================')\n",
    "c_m(y_pred, Y_valid)           "
   ]
  },
  {
   "cell_type": "code",
   "execution_count": 28,
   "metadata": {},
   "outputs": [
    {
     "name": "stdout",
     "output_type": "stream",
     "text": [
      "\n",
      "Best parameters set found on development set:\n",
      "=============================================\n",
      "\n",
      "{'learning_rate': 0.05, 'max_features': 7, 'n_estimators': 200}\n"
     ]
    }
   ],
   "source": [
    "# Initialize the initial model\n",
    "gb = GradientBoostingClassifier(random_state=0)\n",
    "\n",
    "# Create the ranges of the parameters to tune\n",
    "tuned_parameters = [\n",
    "    {'learning_rate' : [1, 0.5, 0.1, 0.05, 0.01],\n",
    "     'n_estimators' : [8,16,32,64,100,200],\n",
    "     'max_features' : list(range(4, X_train.shape[1]))\n",
    "    } \n",
    "]\n",
    "\n",
    "# Define the scores\n",
    "scores =['accuracy']   #,'precision','recall']\n",
    "\n",
    "# Creating the instance of the cross validation\n",
    "for score in scores:\n",
    "    clf = GridSearchCV(gb, tuned_parameters, scoring=score, cv=5)\n",
    "    clf.fit(X_train, Y_train)\n",
    "\n",
    "print('''\n",
    "Best parameters set found on development set:\n",
    "=============================================\n",
    "''')\n",
    "print(clf.best_params_)\n"
   ]
  },
  {
   "cell_type": "code",
   "execution_count": 32,
   "metadata": {},
   "outputs": [
    {
     "name": "stdout",
     "output_type": "stream",
     "text": [
      "==================\n",
      "Model's Accuracy: 0.8586666666666667\n",
      "Model's Misclassification: 0.14133333333333334\n",
      "Model's Specificity: 0.8697289156626506\n",
      "Model's Sensitivity: 0.7732558139534884\n"
     ]
    },
    {
     "data": {
      "image/png": "[encoded data removed]",
      "text/plain": [
       "<Figure size 576x288 with 2 Axes>"
      ]
     },
     "metadata": {},
     "output_type": "display_data"
    }
   ],
   "source": [
    "# Initialize the optimal model\n",
    "gb_best = GradientBoostingClassifier(learning_rate= 0.05, max_features= 7, n_estimators =200, random_state=0)\n",
    "\n",
    "# Fit the model\n",
    "gb_best.fit(X_train, Y_train)\n",
    "# Use the model to predict\n",
    "y_pred = gb_best.predict(X_valid)    \n",
    "print('==================')\n",
    "c_m(y_pred, Y_valid)                 "
   ]
  },
  {
   "cell_type": "code",
   "execution_count": 33,
   "metadata": {},
   "outputs": [
    {
     "data": {
      "text/html": [
       "<div>\n",
       "<style scoped>\n",
       "    .dataframe tbody tr th:only-of-type {\n",
       "        vertical-align: middle;\n",
       "    }\n",
       "\n",
       "    .dataframe tbody tr th {\n",
       "        vertical-align: top;\n",
       "    }\n",
       "\n",
       "    .dataframe thead th {\n",
       "        text-align: right;\n",
       "    }\n",
       "</style>\n",
       "<table border=\"1\" class=\"dataframe\">\n",
       "  <thead>\n",
       "    <tr style=\"text-align: right;\">\n",
       "      <th></th>\n",
       "      <th>Features</th>\n",
       "      <th>Importance</th>\n",
       "    </tr>\n",
       "  </thead>\n",
       "  <tbody>\n",
       "    <tr>\n",
       "      <th>0</th>\n",
       "      <td>CreditScore</td>\n",
       "      <td>0.020940</td>\n",
       "    </tr>\n",
       "    <tr>\n",
       "      <th>1</th>\n",
       "      <td>Age</td>\n",
       "      <td>0.378898</td>\n",
       "    </tr>\n",
       "    <tr>\n",
       "      <th>2</th>\n",
       "      <td>Tenure</td>\n",
       "      <td>0.006704</td>\n",
       "    </tr>\n",
       "    <tr>\n",
       "      <th>3</th>\n",
       "      <td>Balance</td>\n",
       "      <td>0.075038</td>\n",
       "    </tr>\n",
       "    <tr>\n",
       "      <th>4</th>\n",
       "      <td>NumOfProducts</td>\n",
       "      <td>0.312263</td>\n",
       "    </tr>\n",
       "    <tr>\n",
       "      <th>5</th>\n",
       "      <td>HasCrCard</td>\n",
       "      <td>0.001341</td>\n",
       "    </tr>\n",
       "    <tr>\n",
       "      <th>6</th>\n",
       "      <td>IsActiveMember</td>\n",
       "      <td>0.109708</td>\n",
       "    </tr>\n",
       "    <tr>\n",
       "      <th>7</th>\n",
       "      <td>EstimatedSalary</td>\n",
       "      <td>0.017746</td>\n",
       "    </tr>\n",
       "    <tr>\n",
       "      <th>8</th>\n",
       "      <td>Geography_Germany</td>\n",
       "      <td>0.060635</td>\n",
       "    </tr>\n",
       "    <tr>\n",
       "      <th>9</th>\n",
       "      <td>Geography_Spain</td>\n",
       "      <td>0.000343</td>\n",
       "    </tr>\n",
       "    <tr>\n",
       "      <th>10</th>\n",
       "      <td>Gender_Male</td>\n",
       "      <td>0.016385</td>\n",
       "    </tr>\n",
       "  </tbody>\n",
       "</table>\n",
       "</div>"
      ],
      "text/plain": [
       "             Features  Importance\n",
       "0         CreditScore    0.020940\n",
       "1                 Age    0.378898\n",
       "2              Tenure    0.006704\n",
       "3             Balance    0.075038\n",
       "4       NumOfProducts    0.312263\n",
       "5           HasCrCard    0.001341\n",
       "6      IsActiveMember    0.109708\n",
       "7     EstimatedSalary    0.017746\n",
       "8   Geography_Germany    0.060635\n",
       "9     Geography_Spain    0.000343\n",
       "10        Gender_Male    0.016385"
      ]
     },
     "execution_count": 33,
     "metadata": {},
     "output_type": "execute_result"
    }
   ],
   "source": [
    "# Display the importance of each selected feature\n",
    "variables = pd.DataFrame({'Features': list(X_train.columns) , 'Importance': list(gb_best.feature_importances_)})\n",
    "variables"
   ]
  },
  {
   "cell_type": "markdown",
   "metadata": {},
   "source": [
    "##### Cross-Validation: Everyone does it for their own models"
   ]
  },
  {
   "cell_type": "markdown",
   "metadata": {},
   "source": [
    "##### Recording Final Accuracies of Classifiers: "
   ]
  },
  {
   "cell_type": "markdown",
   "metadata": {},
   "source": [
    "### Deep Learning"
   ]
  },
  {
   "cell_type": "markdown",
   "metadata": {},
   "source": [
    "##### Basic FF NN (Tim)"
   ]
  },
  {
   "cell_type": "code",
   "execution_count": 22,
   "metadata": {},
   "outputs": [],
   "source": [
    "# clean sessions and set seeds\n",
    "tf.keras.backend.clear_session()\n",
    "np.random.seed(231)\n",
    "tf.random.set_seed(631)"
   ]
  },
  {
   "cell_type": "code",
   "execution_count": 31,
   "metadata": {},
   "outputs": [
    {
     "name": "stdout",
     "output_type": "stream",
     "text": [
      "Epoch 1/100\n",
      "188/188 [==============================] - 0s 1ms/step - loss: 0.6292 - accuracy: 0.7953 - val_loss: 0.5822 - val_accuracy: 0.7960\n",
      "Epoch 2/100\n",
      "188/188 [==============================] - 0s 917us/step - loss: 0.5568 - accuracy: 0.7963 - val_loss: 0.5379 - val_accuracy: 0.7960\n",
      "Epoch 3/100\n",
      "188/188 [==============================] - 0s 890us/step - loss: 0.5269 - accuracy: 0.7963 - val_loss: 0.5190 - val_accuracy: 0.7960\n",
      "Epoch 4/100\n",
      "188/188 [==============================] - 0s 879us/step - loss: 0.5140 - accuracy: 0.7963 - val_loss: 0.5108 - val_accuracy: 0.7960\n",
      "Epoch 5/100\n",
      "188/188 [==============================] - 0s 882us/step - loss: 0.5081 - accuracy: 0.7963 - val_loss: 0.5069 - val_accuracy: 0.7960\n",
      "Epoch 6/100\n",
      "188/188 [==============================] - 0s 891us/step - loss: 0.5052 - accuracy: 0.7963 - val_loss: 0.5048 - val_accuracy: 0.7960\n",
      "Epoch 7/100\n",
      "188/188 [==============================] - 0s 890us/step - loss: 0.5034 - accuracy: 0.7963 - val_loss: 0.5034 - val_accuracy: 0.7960\n",
      "Epoch 8/100\n",
      "188/188 [==============================] - 0s 885us/step - loss: 0.5021 - accuracy: 0.7963 - val_loss: 0.5023 - val_accuracy: 0.7960\n",
      "Epoch 9/100\n",
      "188/188 [==============================] - 0s 894us/step - loss: 0.5009 - accuracy: 0.7963 - val_loss: 0.5011 - val_accuracy: 0.7960\n",
      "Epoch 10/100\n",
      "188/188 [==============================] - 0s 881us/step - loss: 0.4995 - accuracy: 0.7963 - val_loss: 0.4997 - val_accuracy: 0.7960\n",
      "Epoch 11/100\n",
      "188/188 [==============================] - 0s 990us/step - loss: 0.4979 - accuracy: 0.7963 - val_loss: 0.4980 - val_accuracy: 0.7960\n",
      "Epoch 12/100\n",
      "188/188 [==============================] - 0s 890us/step - loss: 0.4959 - accuracy: 0.7963 - val_loss: 0.4960 - val_accuracy: 0.7960\n",
      "Epoch 13/100\n",
      "188/188 [==============================] - 0s 899us/step - loss: 0.4934 - accuracy: 0.7963 - val_loss: 0.4933 - val_accuracy: 0.7960\n",
      "Epoch 14/100\n",
      "188/188 [==============================] - 0s 888us/step - loss: 0.4902 - accuracy: 0.7963 - val_loss: 0.4901 - val_accuracy: 0.7960\n",
      "Epoch 15/100\n",
      "188/188 [==============================] - 0s 892us/step - loss: 0.4862 - accuracy: 0.7963 - val_loss: 0.4860 - val_accuracy: 0.7960\n",
      "Epoch 16/100\n",
      "188/188 [==============================] - 0s 875us/step - loss: 0.4813 - accuracy: 0.7963 - val_loss: 0.4811 - val_accuracy: 0.7960\n",
      "Epoch 17/100\n",
      "188/188 [==============================] - 0s 922us/step - loss: 0.4756 - accuracy: 0.7963 - val_loss: 0.4754 - val_accuracy: 0.7960\n",
      "Epoch 18/100\n",
      "188/188 [==============================] - 0s 878us/step - loss: 0.4692 - accuracy: 0.7963 - val_loss: 0.4694 - val_accuracy: 0.7960\n",
      "Epoch 19/100\n",
      "188/188 [==============================] - 0s 875us/step - loss: 0.4626 - accuracy: 0.7963 - val_loss: 0.4635 - val_accuracy: 0.7960\n",
      "Epoch 20/100\n",
      "188/188 [==============================] - 0s 875us/step - loss: 0.4562 - accuracy: 0.7963 - val_loss: 0.4580 - val_accuracy: 0.7960\n",
      "Epoch 21/100\n",
      "188/188 [==============================] - 0s 879us/step - loss: 0.4502 - accuracy: 0.7963 - val_loss: 0.4530 - val_accuracy: 0.7960\n",
      "Epoch 22/100\n",
      "188/188 [==============================] - 0s 879us/step - loss: 0.4446 - accuracy: 0.7963 - val_loss: 0.4486 - val_accuracy: 0.7960\n",
      "Epoch 23/100\n",
      "188/188 [==============================] - 0s 880us/step - loss: 0.4397 - accuracy: 0.7963 - val_loss: 0.4449 - val_accuracy: 0.7960\n",
      "Epoch 24/100\n",
      "188/188 [==============================] - 0s 887us/step - loss: 0.4354 - accuracy: 0.7963 - val_loss: 0.4417 - val_accuracy: 0.7960\n",
      "Epoch 25/100\n",
      "188/188 [==============================] - 0s 872us/step - loss: 0.4317 - accuracy: 0.7963 - val_loss: 0.4391 - val_accuracy: 0.7960\n",
      "Epoch 26/100\n",
      "188/188 [==============================] - 0s 873us/step - loss: 0.4284 - accuracy: 0.7963 - val_loss: 0.4368 - val_accuracy: 0.7960\n",
      "Epoch 27/100\n",
      "188/188 [==============================] - 0s 868us/step - loss: 0.4255 - accuracy: 0.7963 - val_loss: 0.4347 - val_accuracy: 0.7960\n",
      "Epoch 28/100\n",
      "188/188 [==============================] - 0s 882us/step - loss: 0.4228 - accuracy: 0.7963 - val_loss: 0.4328 - val_accuracy: 0.7960\n",
      "Epoch 29/100\n",
      "188/188 [==============================] - 0s 880us/step - loss: 0.4204 - accuracy: 0.7963 - val_loss: 0.4310 - val_accuracy: 0.7953\n",
      "Epoch 30/100\n",
      "188/188 [==============================] - 0s 889us/step - loss: 0.4180 - accuracy: 0.7960 - val_loss: 0.4291 - val_accuracy: 0.7960\n",
      "Epoch 31/100\n",
      "188/188 [==============================] - 0s 883us/step - loss: 0.4156 - accuracy: 0.7945 - val_loss: 0.4272 - val_accuracy: 0.7933\n",
      "Epoch 32/100\n",
      "188/188 [==============================] - 0s 866us/step - loss: 0.4132 - accuracy: 0.7943 - val_loss: 0.4251 - val_accuracy: 0.7887\n",
      "Epoch 33/100\n",
      "188/188 [==============================] - 0s 868us/step - loss: 0.4107 - accuracy: 0.7952 - val_loss: 0.4228 - val_accuracy: 0.7880\n",
      "Epoch 34/100\n",
      "188/188 [==============================] - 0s 880us/step - loss: 0.4080 - accuracy: 0.7977 - val_loss: 0.4204 - val_accuracy: 0.7893\n",
      "Epoch 35/100\n",
      "188/188 [==============================] - 0s 877us/step - loss: 0.4051 - accuracy: 0.8037 - val_loss: 0.4177 - val_accuracy: 0.7980\n",
      "Epoch 36/100\n",
      "188/188 [==============================] - 0s 881us/step - loss: 0.4020 - accuracy: 0.8147 - val_loss: 0.4149 - val_accuracy: 0.8060\n",
      "Epoch 37/100\n",
      "188/188 [==============================] - 0s 873us/step - loss: 0.3987 - accuracy: 0.8223 - val_loss: 0.4120 - val_accuracy: 0.8093\n",
      "Epoch 38/100\n",
      "188/188 [==============================] - 0s 897us/step - loss: 0.3952 - accuracy: 0.8267 - val_loss: 0.4088 - val_accuracy: 0.8133\n",
      "Epoch 39/100\n",
      "188/188 [==============================] - 0s 875us/step - loss: 0.3916 - accuracy: 0.8320 - val_loss: 0.4058 - val_accuracy: 0.8107\n",
      "Epoch 40/100\n",
      "188/188 [==============================] - 0s 879us/step - loss: 0.3881 - accuracy: 0.8323 - val_loss: 0.4031 - val_accuracy: 0.8187\n",
      "Epoch 41/100\n",
      "188/188 [==============================] - 0s 872us/step - loss: 0.3847 - accuracy: 0.8363 - val_loss: 0.3998 - val_accuracy: 0.8207\n",
      "Epoch 42/100\n",
      "188/188 [==============================] - 0s 874us/step - loss: 0.3812 - accuracy: 0.8390 - val_loss: 0.3971 - val_accuracy: 0.8220\n",
      "Epoch 43/100\n",
      "188/188 [==============================] - 0s 878us/step - loss: 0.3779 - accuracy: 0.8405 - val_loss: 0.3938 - val_accuracy: 0.8233\n",
      "Epoch 44/100\n",
      "188/188 [==============================] - 0s 988us/step - loss: 0.3752 - accuracy: 0.8437 - val_loss: 0.3912 - val_accuracy: 0.8280\n",
      "Epoch 45/100\n",
      "188/188 [==============================] - 0s 884us/step - loss: 0.3723 - accuracy: 0.8458 - val_loss: 0.3885 - val_accuracy: 0.8307\n",
      "Epoch 46/100\n",
      "188/188 [==============================] - 0s 876us/step - loss: 0.3698 - accuracy: 0.8475 - val_loss: 0.3863 - val_accuracy: 0.8333\n",
      "Epoch 47/100\n",
      "188/188 [==============================] - 0s 892us/step - loss: 0.3675 - accuracy: 0.8475 - val_loss: 0.3837 - val_accuracy: 0.8353\n",
      "Epoch 48/100\n",
      "188/188 [==============================] - 0s 886us/step - loss: 0.3652 - accuracy: 0.8487 - val_loss: 0.3812 - val_accuracy: 0.8373\n",
      "Epoch 49/100\n",
      "188/188 [==============================] - 0s 877us/step - loss: 0.3631 - accuracy: 0.8485 - val_loss: 0.3789 - val_accuracy: 0.8360\n",
      "Epoch 50/100\n",
      "188/188 [==============================] - 0s 878us/step - loss: 0.3612 - accuracy: 0.8482 - val_loss: 0.3768 - val_accuracy: 0.8353\n",
      "Epoch 51/100\n",
      "188/188 [==============================] - 0s 881us/step - loss: 0.3594 - accuracy: 0.8497 - val_loss: 0.3750 - val_accuracy: 0.8353\n",
      "Epoch 52/100\n",
      "188/188 [==============================] - 0s 880us/step - loss: 0.3579 - accuracy: 0.8502 - val_loss: 0.3741 - val_accuracy: 0.8347\n",
      "Epoch 53/100\n",
      "188/188 [==============================] - 0s 872us/step - loss: 0.3569 - accuracy: 0.8508 - val_loss: 0.3719 - val_accuracy: 0.8393\n",
      "Epoch 54/100\n",
      "188/188 [==============================] - 0s 867us/step - loss: 0.3554 - accuracy: 0.8515 - val_loss: 0.3709 - val_accuracy: 0.8387\n",
      "Epoch 55/100\n",
      "188/188 [==============================] - 0s 876us/step - loss: 0.3544 - accuracy: 0.8522 - val_loss: 0.3691 - val_accuracy: 0.8387\n",
      "Epoch 56/100\n",
      "188/188 [==============================] - 0s 873us/step - loss: 0.3533 - accuracy: 0.8543 - val_loss: 0.3680 - val_accuracy: 0.8387\n",
      "Epoch 57/100\n",
      "188/188 [==============================] - 0s 871us/step - loss: 0.3526 - accuracy: 0.8533 - val_loss: 0.3670 - val_accuracy: 0.8393\n",
      "Epoch 58/100\n",
      "188/188 [==============================] - 0s 881us/step - loss: 0.3517 - accuracy: 0.8545 - val_loss: 0.3665 - val_accuracy: 0.8420\n",
      "Epoch 59/100\n",
      "188/188 [==============================] - 0s 903us/step - loss: 0.3508 - accuracy: 0.8555 - val_loss: 0.3652 - val_accuracy: 0.8420\n",
      "Epoch 60/100\n",
      "188/188 [==============================] - 0s 867us/step - loss: 0.3503 - accuracy: 0.8558 - val_loss: 0.3647 - val_accuracy: 0.8407\n",
      "Epoch 61/100\n",
      "188/188 [==============================] - 0s 883us/step - loss: 0.3498 - accuracy: 0.8560 - val_loss: 0.3642 - val_accuracy: 0.8420\n",
      "Epoch 62/100\n",
      "188/188 [==============================] - 0s 872us/step - loss: 0.3490 - accuracy: 0.8553 - val_loss: 0.3634 - val_accuracy: 0.8467\n",
      "Epoch 63/100\n",
      "188/188 [==============================] - 0s 871us/step - loss: 0.3485 - accuracy: 0.8552 - val_loss: 0.3624 - val_accuracy: 0.8447\n",
      "Epoch 64/100\n",
      "188/188 [==============================] - 0s 868us/step - loss: 0.3475 - accuracy: 0.8562 - val_loss: 0.3634 - val_accuracy: 0.8453\n",
      "Epoch 65/100\n",
      "188/188 [==============================] - 0s 881us/step - loss: 0.3475 - accuracy: 0.8560 - val_loss: 0.3609 - val_accuracy: 0.8447\n",
      "Epoch 66/100\n",
      "188/188 [==============================] - 0s 880us/step - loss: 0.3468 - accuracy: 0.8552 - val_loss: 0.3606 - val_accuracy: 0.8447\n",
      "Epoch 67/100\n",
      "188/188 [==============================] - 0s 876us/step - loss: 0.3465 - accuracy: 0.8572 - val_loss: 0.3602 - val_accuracy: 0.8440\n",
      "Epoch 68/100\n",
      "188/188 [==============================] - 0s 942us/step - loss: 0.3461 - accuracy: 0.8572 - val_loss: 0.3595 - val_accuracy: 0.8467\n",
      "Epoch 69/100\n",
      "188/188 [==============================] - 0s 872us/step - loss: 0.3457 - accuracy: 0.8583 - val_loss: 0.3588 - val_accuracy: 0.8460\n",
      "Epoch 70/100\n",
      "188/188 [==============================] - 0s 879us/step - loss: 0.3450 - accuracy: 0.8583 - val_loss: 0.3584 - val_accuracy: 0.8480\n",
      "Epoch 71/100\n",
      "188/188 [==============================] - 0s 875us/step - loss: 0.3447 - accuracy: 0.8573 - val_loss: 0.3581 - val_accuracy: 0.8480\n",
      "Epoch 72/100\n",
      "188/188 [==============================] - 0s 882us/step - loss: 0.3445 - accuracy: 0.8592 - val_loss: 0.3583 - val_accuracy: 0.8480\n",
      "Epoch 73/100\n",
      "188/188 [==============================] - 0s 880us/step - loss: 0.3439 - accuracy: 0.8578 - val_loss: 0.3568 - val_accuracy: 0.8493\n",
      "Epoch 74/100\n",
      "188/188 [==============================] - 0s 889us/step - loss: 0.3435 - accuracy: 0.8585 - val_loss: 0.3571 - val_accuracy: 0.8487\n",
      "Epoch 75/100\n",
      "188/188 [==============================] - 0s 866us/step - loss: 0.3434 - accuracy: 0.8583 - val_loss: 0.3569 - val_accuracy: 0.8507\n",
      "Epoch 76/100\n",
      "188/188 [==============================] - 0s 950us/step - loss: 0.3426 - accuracy: 0.8592 - val_loss: 0.3572 - val_accuracy: 0.8473\n",
      "Epoch 77/100\n",
      "188/188 [==============================] - 0s 888us/step - loss: 0.3425 - accuracy: 0.8583 - val_loss: 0.3556 - val_accuracy: 0.8513\n",
      "Epoch 78/100\n",
      "188/188 [==============================] - 0s 872us/step - loss: 0.3422 - accuracy: 0.8595 - val_loss: 0.3558 - val_accuracy: 0.8493\n",
      "Epoch 79/100\n",
      "188/188 [==============================] - 0s 881us/step - loss: 0.3418 - accuracy: 0.8608 - val_loss: 0.3554 - val_accuracy: 0.8500\n",
      "Epoch 80/100\n",
      "188/188 [==============================] - 0s 896us/step - loss: 0.3412 - accuracy: 0.8583 - val_loss: 0.3576 - val_accuracy: 0.8460\n",
      "Epoch 81/100\n",
      "188/188 [==============================] - 0s 884us/step - loss: 0.3410 - accuracy: 0.8587 - val_loss: 0.3562 - val_accuracy: 0.8500\n",
      "Epoch 82/100\n",
      "188/188 [==============================] - 0s 874us/step - loss: 0.3407 - accuracy: 0.8597 - val_loss: 0.3548 - val_accuracy: 0.8500\n",
      "Epoch 83/100\n",
      "188/188 [==============================] - 0s 900us/step - loss: 0.3404 - accuracy: 0.8595 - val_loss: 0.3548 - val_accuracy: 0.8527\n",
      "Epoch 84/100\n",
      "188/188 [==============================] - 0s 885us/step - loss: 0.3401 - accuracy: 0.8612 - val_loss: 0.3540 - val_accuracy: 0.8533\n",
      "Epoch 85/100\n",
      "188/188 [==============================] - 0s 884us/step - loss: 0.3396 - accuracy: 0.8602 - val_loss: 0.3544 - val_accuracy: 0.8520\n",
      "Epoch 86/100\n",
      "188/188 [==============================] - 0s 879us/step - loss: 0.3393 - accuracy: 0.8605 - val_loss: 0.3550 - val_accuracy: 0.8540\n",
      "Epoch 87/100\n",
      "188/188 [==============================] - 0s 869us/step - loss: 0.3392 - accuracy: 0.8605 - val_loss: 0.3541 - val_accuracy: 0.8540\n",
      "Epoch 88/100\n",
      "188/188 [==============================] - 0s 880us/step - loss: 0.3389 - accuracy: 0.8605 - val_loss: 0.3531 - val_accuracy: 0.8527\n",
      "Epoch 89/100\n",
      "188/188 [==============================] - 0s 885us/step - loss: 0.3385 - accuracy: 0.8592 - val_loss: 0.3531 - val_accuracy: 0.8520\n",
      "Epoch 90/100\n",
      "188/188 [==============================] - 0s 878us/step - loss: 0.3382 - accuracy: 0.8622 - val_loss: 0.3551 - val_accuracy: 0.8500\n",
      "Epoch 91/100\n",
      "188/188 [==============================] - 0s 882us/step - loss: 0.3378 - accuracy: 0.8608 - val_loss: 0.3531 - val_accuracy: 0.8507\n",
      "Epoch 92/100\n",
      "188/188 [==============================] - 0s 877us/step - loss: 0.3376 - accuracy: 0.8617 - val_loss: 0.3531 - val_accuracy: 0.8500\n",
      "Epoch 93/100\n",
      "188/188 [==============================] - 0s 879us/step - loss: 0.3373 - accuracy: 0.8608 - val_loss: 0.3530 - val_accuracy: 0.8500\n",
      "Epoch 94/100\n",
      "188/188 [==============================] - 0s 879us/step - loss: 0.3371 - accuracy: 0.8625 - val_loss: 0.3526 - val_accuracy: 0.8520\n",
      "Epoch 95/100\n",
      "188/188 [==============================] - 0s 872us/step - loss: 0.3370 - accuracy: 0.8612 - val_loss: 0.3535 - val_accuracy: 0.8533\n",
      "Epoch 96/100\n",
      "188/188 [==============================] - 0s 892us/step - loss: 0.3363 - accuracy: 0.8615 - val_loss: 0.3542 - val_accuracy: 0.8480\n",
      "Epoch 97/100\n",
      "188/188 [==============================] - 0s 878us/step - loss: 0.3365 - accuracy: 0.8605 - val_loss: 0.3518 - val_accuracy: 0.8533\n",
      "Epoch 98/100\n",
      "188/188 [==============================] - 0s 880us/step - loss: 0.3362 - accuracy: 0.8595 - val_loss: 0.3532 - val_accuracy: 0.8520\n",
      "Epoch 99/100\n",
      "188/188 [==============================] - 0s 882us/step - loss: 0.3360 - accuracy: 0.8627 - val_loss: 0.3523 - val_accuracy: 0.8507\n",
      "Epoch 100/100\n",
      "188/188 [==============================] - 0s 881us/step - loss: 0.3355 - accuracy: 0.8618 - val_loss: 0.3529 - val_accuracy: 0.8487\n",
      "79/79 [==============================] - 0s 553us/step - loss: 0.3376 - accuracy: 0.8648\n",
      "MSE on test set: [0.3375876545906067, 0.864799976348877]\n"
     ]
    }
   ],
   "source": [
    "# create tensorflow model\n",
    "model_benchmarking = tf.keras.models.Sequential([ \n",
    "    tf.keras.layers.Dense(100, kernel_initializer = 'uniform',activation=\"relu\", input_shape=X_train.shape[1:]),\n",
    "    tf.keras.layers.Dense(100, kernel_initializer = 'uniform',activation=\"relu\"),\n",
    "    tf.keras.layers.Dense(1, kernel_initializer = 'uniform', activation=\"sigmoid\")\n",
    "    ])\n",
    "\n",
    "# early_stopping\n",
    "early_stopping_cb = tf.keras.callbacks.EarlyStopping(patience=10, restore_best_weights=True)\n",
    "# compile the model\n",
    "model_benchmarking.compile(loss=\"binary_crossentropy\",\n",
    "              optimizer=tf.keras.optimizers.SGD(learning_rate=0.01),\n",
    "              metrics=[\"accuracy\"])\n",
    "# keep track of the perforance\n",
    "log = model_benchmarking.fit(X_train, Y_train, \n",
    "                epochs=100, \n",
    "                validation_data=(X_valid, Y_valid),\n",
    "               )\n",
    "\n",
    "print(\"MSE on test set: \" + str(model_benchmarking.evaluate(X_test, Y_test)))\n"
   ]
  },
  {
   "cell_type": "code",
   "execution_count": 32,
   "metadata": {},
   "outputs": [
    {
     "data": {
      "image/png": "[encoded data removed]",
      "text/plain": [
       "<Figure size 576x288 with 1 Axes>"
      ]
     },
     "metadata": {},
     "output_type": "display_data"
    }
   ],
   "source": [
    "# visualise the lost \n",
    "plt.plot(log.history['loss'],label = \"training loss\")\n",
    "plt.plot(log.history['val_loss'], label = \"validation loss\")\n",
    "plt.legend()\n",
    "plt.show()"
   ]
  },
  {
   "cell_type": "code",
   "execution_count": 33,
   "metadata": {},
   "outputs": [
    {
     "name": "stdout",
     "output_type": "stream",
     "text": [
      "79/79 [==============================] - 0s 588us/step - loss: 0.3376 - accuracy: 0.8648\n"
     ]
    },
    {
     "data": {
      "text/plain": [
       "[0.3375876545906067, 0.864799976348877]"
      ]
     },
     "execution_count": 33,
     "metadata": {},
     "output_type": "execute_result"
    }
   ],
   "source": [
    "# evalute the model on test set\n",
    "model_benchmarking.evaluate(X_test, Y_test)"
   ]
  },
  {
   "cell_type": "markdown",
   "metadata": {},
   "source": [
    "##### Hyperparameter and layer size tuning - Keras Tuner"
   ]
  },
  {
   "cell_type": "code",
   "execution_count": 34,
   "metadata": {},
   "outputs": [],
   "source": [
    "# clean sessions and set seeds\n",
    "tf.keras.backend.clear_session()\n",
    "np.random.seed(231)\n",
    "tf.random.set_seed(631)"
   ]
  },
  {
   "cell_type": "code",
   "execution_count": 35,
   "metadata": {},
   "outputs": [],
   "source": [
    "import keras_tuner as kt"
   ]
  },
  {
   "cell_type": "code",
   "execution_count": 36,
   "metadata": {},
   "outputs": [
    {
     "data": {
      "text/plain": [
       "<keras.engine.sequential.Sequential at 0x7fd541338d30>"
      ]
     },
     "execution_count": 36,
     "metadata": {},
     "output_type": "execute_result"
    }
   ],
   "source": [
    "# build a hyper parameter function to tune the parameters\n",
    "def train_model_hp(hp):      \n",
    "       \n",
    "   # find the best hidden layer size\n",
    "    model = tf.keras.models.Sequential()\n",
    "    \n",
    "     # tune the number of layers.\n",
    "    for i in range(hp.Int('num_layers', 1, 5)):\n",
    "        model.add(tf.keras.layers.Dense(\n",
    "            # tune number of units separatel and set max and min value for nuron\n",
    "            units=hp.Int(f\"num_units_{i}\", min_value = 2, max_value=61),\n",
    "            # apply L2 reugularizaton to prevent overfittinng issue\n",
    "            kernel_regularizer=tf.keras.regularizers.l2(0.01),\n",
    "            activation='relu'))\n",
    "    \n",
    "    # tune whether to use dropout for layers \n",
    "    if hp.Boolean(\"dropout\"):\n",
    "        # set a drop out rate ranging from 0.1 to 03\n",
    "        model.add(tf.keras.layers.Dropout(rate=hp.Float('dropout_rate', min_value = 0.1, max_value=0.3)))\n",
    "        \n",
    "    # add output layer \n",
    "    model.add(tf.keras.layers.Dense(1, activation='sigmoid'))\n",
    "    \n",
    "    # define a choice of optimizer \n",
    "    optim_algo = hp.Choice('optimizer', values=['sgd','adam']) \n",
    "    # define the range of learning rate \n",
    "    learning_rate = hp.Float('learning_rate', min_value=0.001, max_value=1, sampling=\"log\")\n",
    "    \n",
    "    # tune wether to use sgd or adam optimizer \n",
    "    if optim_algo == 'sgd':\n",
    "        optimizer = tf.keras.optimizers.SGD(learning_rate=learning_rate,clipvalue=1)\n",
    "    elif optim_algo == 'adam':\n",
    "        optimizer = tf.keras.optimizers.Adam(learning_rate=learning_rate)\n",
    "    \n",
    "    # compile the model    \n",
    "    model.compile(  optimizer=optimizer,\n",
    "                    # add loss function, in this case, the result will be binary \n",
    "                    loss='binary_crossentropy',\n",
    "                    # define metrics to show \n",
    "                    metrics=[\"accuracy\", \n",
    "                            tf.keras.metrics.TruePositives(name=\"tp\"),\n",
    "                            tf.keras.metrics.AUC(name='auc')\n",
    "                            ])\n",
    "    return model\n",
    "\n",
    "train_model_hp(kt.HyperParameters())"
   ]
  },
  {
   "cell_type": "code",
   "execution_count": 37,
   "metadata": {},
   "outputs": [
    {
     "name": "stdout",
     "output_type": "stream",
     "text": [
      "Trial 90 Complete [00h 00m 10s]\n",
      "val_loss: 0.44310545921325684\n",
      "\n",
      "Best val_loss So Far: 0.3704720735549927\n",
      "Total elapsed time: 00h 04m 17s\n",
      "INFO:tensorflow:Oracle triggered exit\n"
     ]
    }
   ],
   "source": [
    "# create tunner\n",
    "tuner = kt.Hyperband(train_model_hp,\n",
    "                     # set an obejective of minimise loss\n",
    "                     objective='val_loss',\n",
    "                     max_epochs=100,\n",
    "                     factor=3,\n",
    "                     seed=235,\n",
    "                     directory='/Users/timliu/Documents/GitHub/SMM284',\n",
    "                     project_name='train_model_hp'\n",
    "                    )\n",
    "# find the best values\n",
    "tuner.search(X_train, Y_train, validation_data=(X_valid,Y_valid))"
   ]
  },
  {
   "cell_type": "code",
   "execution_count": 38,
   "metadata": {},
   "outputs": [
    {
     "name": "stdout",
     "output_type": "stream",
     "text": [
      "\u001b[1m---------------------Best Parameters---------------------\u001b[0m\n",
      "Best number of hidden layers: 2\n",
      "Best learning rate: 0.005025029938506631\n",
      "Best optimizer: adam\n",
      "Best dropout rate: 0.2843823941538937\n"
     ]
    }
   ],
   "source": [
    "# get the best hyperparameters\n",
    "best_hps = tuner.get_best_hyperparameters()[0]\n",
    "\n",
    "# print out the best parameters\n",
    "print(\"\\033[1m---------------------Best Parameters---------------------\\033[0m\")\n",
    "print(\"Best number of hidden layers: \" + str(best_hps['num_layers']))\n",
    "print(\"Best learning rate: \" + str(best_hps['learning_rate']))\n",
    "print(\"Best optimizer: \" + str(best_hps['optimizer']))\n",
    "print(\"Best dropout rate: \" + str(best_hps['dropout_rate']))"
   ]
  },
  {
   "cell_type": "code",
   "execution_count": 41,
   "metadata": {},
   "outputs": [],
   "source": [
    "# clean sessions and set seeds\n",
    "tf.keras.backend.clear_session()\n",
    "np.random.seed(231)\n",
    "tf.random.set_seed(631)"
   ]
  },
  {
   "cell_type": "code",
   "execution_count": 42,
   "metadata": {},
   "outputs": [
    {
     "name": "stdout",
     "output_type": "stream",
     "text": [
      "Epoch 1/100\n",
      "188/188 [==============================] - 1s 2ms/step - loss: 0.5405 - accuracy: 0.7952 - tp: 82.0000 - auc: 0.7088 - val_loss: 0.4650 - val_accuracy: 0.7987 - val_tp: 13.0000 - val_auc: 0.7705\n",
      "Epoch 2/100\n",
      "188/188 [==============================] - 0s 1ms/step - loss: 0.4355 - accuracy: 0.8227 - tp: 288.0000 - auc: 0.8043 - val_loss: 0.4232 - val_accuracy: 0.8260 - val_tp: 110.0000 - val_auc: 0.8265\n",
      "Epoch 3/100\n",
      "188/188 [==============================] - 0s 1ms/step - loss: 0.4156 - accuracy: 0.8393 - tp: 437.0000 - auc: 0.8254 - val_loss: 0.4120 - val_accuracy: 0.8320 - val_tp: 77.0000 - val_auc: 0.8351\n",
      "Epoch 4/100\n",
      "188/188 [==============================] - 0s 1ms/step - loss: 0.4065 - accuracy: 0.8468 - tp: 465.0000 - auc: 0.8296 - val_loss: 0.4163 - val_accuracy: 0.8300 - val_tp: 66.0000 - val_auc: 0.8338\n",
      "Epoch 5/100\n",
      "188/188 [==============================] - 0s 1ms/step - loss: 0.3987 - accuracy: 0.8448 - tp: 471.0000 - auc: 0.8346 - val_loss: 0.3981 - val_accuracy: 0.8393 - val_tp: 87.0000 - val_auc: 0.8465\n",
      "Epoch 6/100\n",
      "188/188 [==============================] - 0s 1ms/step - loss: 0.3992 - accuracy: 0.8472 - tp: 480.0000 - auc: 0.8334 - val_loss: 0.3994 - val_accuracy: 0.8433 - val_tp: 117.0000 - val_auc: 0.8394\n",
      "Epoch 7/100\n",
      "188/188 [==============================] - 0s 1ms/step - loss: 0.4024 - accuracy: 0.8473 - tp: 493.0000 - auc: 0.8277 - val_loss: 0.4145 - val_accuracy: 0.8380 - val_tp: 157.0000 - val_auc: 0.8424\n",
      "Epoch 8/100\n",
      "188/188 [==============================] - 0s 1ms/step - loss: 0.3966 - accuracy: 0.8497 - tp: 500.0000 - auc: 0.8358 - val_loss: 0.3935 - val_accuracy: 0.8413 - val_tp: 113.0000 - val_auc: 0.8396\n",
      "Epoch 9/100\n",
      "188/188 [==============================] - 0s 1ms/step - loss: 0.3972 - accuracy: 0.8458 - tp: 487.0000 - auc: 0.8312 - val_loss: 0.3918 - val_accuracy: 0.8393 - val_tp: 133.0000 - val_auc: 0.8475\n",
      "Epoch 10/100\n",
      "188/188 [==============================] - 0s 1ms/step - loss: 0.3887 - accuracy: 0.8505 - tp: 507.0000 - auc: 0.8423 - val_loss: 0.3935 - val_accuracy: 0.8500 - val_tp: 127.0000 - val_auc: 0.8487\n",
      "Epoch 11/100\n",
      "188/188 [==============================] - 0s 1ms/step - loss: 0.3889 - accuracy: 0.8523 - tp: 515.0000 - auc: 0.8392 - val_loss: 0.3925 - val_accuracy: 0.8480 - val_tp: 129.0000 - val_auc: 0.8402\n",
      "Epoch 12/100\n",
      "188/188 [==============================] - 0s 1ms/step - loss: 0.3913 - accuracy: 0.8517 - tp: 506.0000 - auc: 0.8354 - val_loss: 0.3922 - val_accuracy: 0.8447 - val_tp: 141.0000 - val_auc: 0.8445\n",
      "Epoch 13/100\n",
      "188/188 [==============================] - 0s 1ms/step - loss: 0.3899 - accuracy: 0.8457 - tp: 506.0000 - auc: 0.8381 - val_loss: 0.3885 - val_accuracy: 0.8547 - val_tp: 126.0000 - val_auc: 0.8427\n",
      "Epoch 14/100\n",
      "188/188 [==============================] - 0s 1ms/step - loss: 0.3906 - accuracy: 0.8512 - tp: 530.0000 - auc: 0.8363 - val_loss: 0.4028 - val_accuracy: 0.8347 - val_tp: 78.0000 - val_auc: 0.8392\n",
      "Epoch 15/100\n",
      "188/188 [==============================] - 0s 1ms/step - loss: 0.3871 - accuracy: 0.8530 - tp: 524.0000 - auc: 0.8398 - val_loss: 0.3903 - val_accuracy: 0.8467 - val_tp: 140.0000 - val_auc: 0.8434\n",
      "Epoch 16/100\n",
      "188/188 [==============================] - 0s 1ms/step - loss: 0.3875 - accuracy: 0.8518 - tp: 529.0000 - auc: 0.8389 - val_loss: 0.3867 - val_accuracy: 0.8473 - val_tp: 126.0000 - val_auc: 0.8437\n",
      "Epoch 17/100\n",
      "188/188 [==============================] - 0s 1ms/step - loss: 0.3873 - accuracy: 0.8522 - tp: 515.0000 - auc: 0.8381 - val_loss: 0.3933 - val_accuracy: 0.8447 - val_tp: 162.0000 - val_auc: 0.8505\n",
      "Epoch 18/100\n",
      "188/188 [==============================] - 0s 1ms/step - loss: 0.3880 - accuracy: 0.8502 - tp: 514.0000 - auc: 0.8395 - val_loss: 0.3942 - val_accuracy: 0.8433 - val_tp: 143.0000 - val_auc: 0.8449\n",
      "Epoch 19/100\n",
      "188/188 [==============================] - 0s 1ms/step - loss: 0.3889 - accuracy: 0.8492 - tp: 511.0000 - auc: 0.8370 - val_loss: 0.3994 - val_accuracy: 0.8460 - val_tp: 92.0000 - val_auc: 0.8410\n",
      "Epoch 20/100\n",
      "188/188 [==============================] - 0s 1ms/step - loss: 0.3887 - accuracy: 0.8497 - tp: 513.0000 - auc: 0.8348 - val_loss: 0.3879 - val_accuracy: 0.8467 - val_tp: 140.0000 - val_auc: 0.8429\n",
      "Epoch 21/100\n",
      "188/188 [==============================] - 0s 1ms/step - loss: 0.3842 - accuracy: 0.8533 - tp: 542.0000 - auc: 0.8407 - val_loss: 0.3791 - val_accuracy: 0.8487 - val_tp: 117.0000 - val_auc: 0.8495\n",
      "Epoch 22/100\n",
      "188/188 [==============================] - 0s 1ms/step - loss: 0.3847 - accuracy: 0.8517 - tp: 534.0000 - auc: 0.8405 - val_loss: 0.3847 - val_accuracy: 0.8547 - val_tp: 161.0000 - val_auc: 0.8522\n",
      "Epoch 23/100\n",
      "188/188 [==============================] - 0s 1ms/step - loss: 0.3829 - accuracy: 0.8552 - tp: 537.0000 - auc: 0.8391 - val_loss: 0.3816 - val_accuracy: 0.8540 - val_tp: 121.0000 - val_auc: 0.8467\n",
      "Epoch 24/100\n",
      "188/188 [==============================] - 0s 1ms/step - loss: 0.3797 - accuracy: 0.8580 - tp: 558.0000 - auc: 0.8433 - val_loss: 0.3786 - val_accuracy: 0.8520 - val_tp: 145.0000 - val_auc: 0.8488\n",
      "Epoch 25/100\n",
      "188/188 [==============================] - 0s 1ms/step - loss: 0.3862 - accuracy: 0.8537 - tp: 536.0000 - auc: 0.8382 - val_loss: 0.3800 - val_accuracy: 0.8513 - val_tp: 142.0000 - val_auc: 0.8521\n",
      "Epoch 26/100\n",
      "188/188 [==============================] - 0s 1ms/step - loss: 0.3828 - accuracy: 0.8495 - tp: 532.0000 - auc: 0.8414 - val_loss: 0.3767 - val_accuracy: 0.8527 - val_tp: 127.0000 - val_auc: 0.8518\n",
      "Epoch 27/100\n",
      "188/188 [==============================] - 1s 3ms/step - loss: 0.3816 - accuracy: 0.8523 - tp: 528.0000 - auc: 0.8403 - val_loss: 0.3757 - val_accuracy: 0.8513 - val_tp: 122.0000 - val_auc: 0.8548\n",
      "Epoch 28/100\n",
      "188/188 [==============================] - 0s 1ms/step - loss: 0.3831 - accuracy: 0.8570 - tp: 554.0000 - auc: 0.8378 - val_loss: 0.3811 - val_accuracy: 0.8513 - val_tp: 107.0000 - val_auc: 0.8543\n",
      "Epoch 29/100\n",
      "188/188 [==============================] - 0s 1ms/step - loss: 0.3830 - accuracy: 0.8540 - tp: 536.0000 - auc: 0.8427 - val_loss: 0.3807 - val_accuracy: 0.8573 - val_tp: 127.0000 - val_auc: 0.8486\n",
      "Epoch 30/100\n",
      "188/188 [==============================] - 0s 1ms/step - loss: 0.3827 - accuracy: 0.8510 - tp: 549.0000 - auc: 0.8391 - val_loss: 0.3774 - val_accuracy: 0.8560 - val_tp: 150.0000 - val_auc: 0.8581\n",
      "Epoch 31/100\n",
      "188/188 [==============================] - 0s 1ms/step - loss: 0.3846 - accuracy: 0.8543 - tp: 545.0000 - auc: 0.8368 - val_loss: 0.3770 - val_accuracy: 0.8540 - val_tp: 130.0000 - val_auc: 0.8510\n",
      "Epoch 32/100\n",
      "188/188 [==============================] - 0s 1ms/step - loss: 0.3820 - accuracy: 0.8553 - tp: 540.0000 - auc: 0.8391 - val_loss: 0.3800 - val_accuracy: 0.8480 - val_tp: 118.0000 - val_auc: 0.8527\n",
      "Epoch 33/100\n",
      "188/188 [==============================] - 0s 1ms/step - loss: 0.3817 - accuracy: 0.8537 - tp: 534.0000 - auc: 0.8405 - val_loss: 0.3775 - val_accuracy: 0.8513 - val_tp: 140.0000 - val_auc: 0.8490\n",
      "Epoch 34/100\n",
      "188/188 [==============================] - 0s 1ms/step - loss: 0.3811 - accuracy: 0.8527 - tp: 528.0000 - auc: 0.8412 - val_loss: 0.3764 - val_accuracy: 0.8507 - val_tp: 122.0000 - val_auc: 0.8514\n",
      "Epoch 35/100\n",
      "188/188 [==============================] - 0s 1ms/step - loss: 0.3816 - accuracy: 0.8525 - tp: 526.0000 - auc: 0.8395 - val_loss: 0.3860 - val_accuracy: 0.8480 - val_tp: 91.0000 - val_auc: 0.8589\n",
      "Epoch 36/100\n",
      "188/188 [==============================] - 0s 1ms/step - loss: 0.3805 - accuracy: 0.8540 - tp: 541.0000 - auc: 0.8390 - val_loss: 0.3769 - val_accuracy: 0.8600 - val_tp: 152.0000 - val_auc: 0.8515\n",
      "Epoch 37/100\n",
      "188/188 [==============================] - 0s 1ms/step - loss: 0.3817 - accuracy: 0.8508 - tp: 528.0000 - auc: 0.8402 - val_loss: 0.3902 - val_accuracy: 0.8440 - val_tp: 161.0000 - val_auc: 0.8488\n",
      "Epoch 38/100\n",
      "188/188 [==============================] - 0s 1ms/step - loss: 0.3811 - accuracy: 0.8540 - tp: 543.0000 - auc: 0.8409 - val_loss: 0.3732 - val_accuracy: 0.8553 - val_tp: 135.0000 - val_auc: 0.8584\n",
      "Epoch 39/100\n",
      "188/188 [==============================] - 0s 1ms/step - loss: 0.3808 - accuracy: 0.8563 - tp: 543.0000 - auc: 0.8400 - val_loss: 0.3788 - val_accuracy: 0.8500 - val_tp: 134.0000 - val_auc: 0.8491\n",
      "Epoch 40/100\n",
      "188/188 [==============================] - 0s 1ms/step - loss: 0.3827 - accuracy: 0.8500 - tp: 524.0000 - auc: 0.8411 - val_loss: 0.3684 - val_accuracy: 0.8547 - val_tp: 139.0000 - val_auc: 0.8584\n",
      "Epoch 41/100\n",
      "188/188 [==============================] - 0s 1ms/step - loss: 0.3808 - accuracy: 0.8507 - tp: 540.0000 - auc: 0.8410 - val_loss: 0.3805 - val_accuracy: 0.8533 - val_tp: 110.0000 - val_auc: 0.8517\n",
      "Epoch 42/100\n",
      "188/188 [==============================] - 0s 1ms/step - loss: 0.3768 - accuracy: 0.8560 - tp: 543.0000 - auc: 0.8446 - val_loss: 0.3846 - val_accuracy: 0.8507 - val_tp: 98.0000 - val_auc: 0.8584\n",
      "Epoch 43/100\n",
      "188/188 [==============================] - 0s 1ms/step - loss: 0.3811 - accuracy: 0.8527 - tp: 543.0000 - auc: 0.8403 - val_loss: 0.3814 - val_accuracy: 0.8507 - val_tp: 101.0000 - val_auc: 0.8551\n",
      "Epoch 44/100\n",
      "188/188 [==============================] - 0s 1ms/step - loss: 0.3774 - accuracy: 0.8533 - tp: 531.0000 - auc: 0.8423 - val_loss: 0.3769 - val_accuracy: 0.8573 - val_tp: 159.0000 - val_auc: 0.8534\n",
      "Epoch 45/100\n",
      "188/188 [==============================] - 0s 1ms/step - loss: 0.3811 - accuracy: 0.8537 - tp: 537.0000 - auc: 0.8394 - val_loss: 0.3753 - val_accuracy: 0.8527 - val_tp: 114.0000 - val_auc: 0.8557\n",
      "Epoch 46/100\n",
      "188/188 [==============================] - 0s 1ms/step - loss: 0.3774 - accuracy: 0.8550 - tp: 549.0000 - auc: 0.8419 - val_loss: 0.3739 - val_accuracy: 0.8500 - val_tp: 103.0000 - val_auc: 0.8606\n",
      "Epoch 47/100\n",
      "188/188 [==============================] - 0s 1ms/step - loss: 0.3791 - accuracy: 0.8528 - tp: 537.0000 - auc: 0.8420 - val_loss: 0.3760 - val_accuracy: 0.8547 - val_tp: 116.0000 - val_auc: 0.8606\n",
      "Epoch 48/100\n",
      "188/188 [==============================] - 0s 1ms/step - loss: 0.3814 - accuracy: 0.8522 - tp: 517.0000 - auc: 0.8379 - val_loss: 0.3753 - val_accuracy: 0.8560 - val_tp: 141.0000 - val_auc: 0.8573\n",
      "Epoch 49/100\n",
      "188/188 [==============================] - 0s 1ms/step - loss: 0.3814 - accuracy: 0.8505 - tp: 521.0000 - auc: 0.8400 - val_loss: 0.3786 - val_accuracy: 0.8460 - val_tp: 164.0000 - val_auc: 0.8586\n",
      "Epoch 50/100\n",
      "188/188 [==============================] - 0s 1ms/step - loss: 0.3790 - accuracy: 0.8543 - tp: 547.0000 - auc: 0.8408 - val_loss: 0.3779 - val_accuracy: 0.8487 - val_tp: 158.0000 - val_auc: 0.8560\n",
      "Epoch 51/100\n",
      "188/188 [==============================] - 0s 1ms/step - loss: 0.3805 - accuracy: 0.8540 - tp: 547.0000 - auc: 0.8404 - val_loss: 0.3801 - val_accuracy: 0.8440 - val_tp: 108.0000 - val_auc: 0.8550\n",
      "Epoch 52/100\n",
      "188/188 [==============================] - 0s 1ms/step - loss: 0.3830 - accuracy: 0.8527 - tp: 531.0000 - auc: 0.8371 - val_loss: 0.3783 - val_accuracy: 0.8527 - val_tp: 105.0000 - val_auc: 0.8598\n",
      "Epoch 53/100\n",
      "188/188 [==============================] - 0s 1ms/step - loss: 0.3801 - accuracy: 0.8527 - tp: 531.0000 - auc: 0.8395 - val_loss: 0.3684 - val_accuracy: 0.8527 - val_tp: 144.0000 - val_auc: 0.8571\n",
      "Epoch 54/100\n",
      "188/188 [==============================] - 0s 1ms/step - loss: 0.3817 - accuracy: 0.8505 - tp: 539.0000 - auc: 0.8389 - val_loss: 0.3720 - val_accuracy: 0.8533 - val_tp: 137.0000 - val_auc: 0.8525\n",
      "Epoch 55/100\n",
      "188/188 [==============================] - 0s 1ms/step - loss: 0.3767 - accuracy: 0.8543 - tp: 549.0000 - auc: 0.8426 - val_loss: 0.3788 - val_accuracy: 0.8453 - val_tp: 145.0000 - val_auc: 0.8484\n",
      "Epoch 56/100\n",
      "188/188 [==============================] - 0s 1ms/step - loss: 0.3821 - accuracy: 0.8537 - tp: 538.0000 - auc: 0.8372 - val_loss: 0.3697 - val_accuracy: 0.8500 - val_tp: 129.0000 - val_auc: 0.8592\n",
      "Epoch 57/100\n",
      "188/188 [==============================] - 0s 1ms/step - loss: 0.3783 - accuracy: 0.8562 - tp: 551.0000 - auc: 0.8428 - val_loss: 0.3692 - val_accuracy: 0.8580 - val_tp: 171.0000 - val_auc: 0.8603\n",
      "Epoch 58/100\n",
      "188/188 [==============================] - 0s 1ms/step - loss: 0.3750 - accuracy: 0.8567 - tp: 561.0000 - auc: 0.8464 - val_loss: 0.3779 - val_accuracy: 0.8487 - val_tp: 163.0000 - val_auc: 0.8522\n",
      "Epoch 59/100\n",
      "188/188 [==============================] - 0s 1ms/step - loss: 0.3762 - accuracy: 0.8538 - tp: 558.0000 - auc: 0.8422 - val_loss: 0.3711 - val_accuracy: 0.8553 - val_tp: 125.0000 - val_auc: 0.8558\n",
      "Epoch 60/100\n",
      "188/188 [==============================] - 0s 1ms/step - loss: 0.3762 - accuracy: 0.8567 - tp: 537.0000 - auc: 0.8416 - val_loss: 0.3667 - val_accuracy: 0.8567 - val_tp: 131.0000 - val_auc: 0.8604\n",
      "Epoch 61/100\n",
      "188/188 [==============================] - 0s 1ms/step - loss: 0.3765 - accuracy: 0.8537 - tp: 542.0000 - auc: 0.8431 - val_loss: 0.3707 - val_accuracy: 0.8547 - val_tp: 142.0000 - val_auc: 0.8557\n",
      "Epoch 62/100\n",
      "188/188 [==============================] - 0s 1ms/step - loss: 0.3775 - accuracy: 0.8538 - tp: 540.0000 - auc: 0.8416 - val_loss: 0.3814 - val_accuracy: 0.8473 - val_tp: 105.0000 - val_auc: 0.8530\n",
      "Epoch 63/100\n",
      "188/188 [==============================] - 0s 1ms/step - loss: 0.3780 - accuracy: 0.8543 - tp: 548.0000 - auc: 0.8416 - val_loss: 0.3739 - val_accuracy: 0.8473 - val_tp: 117.0000 - val_auc: 0.8599\n",
      "Epoch 64/100\n",
      "188/188 [==============================] - 0s 1ms/step - loss: 0.3773 - accuracy: 0.8545 - tp: 548.0000 - auc: 0.8431 - val_loss: 0.3838 - val_accuracy: 0.8513 - val_tp: 95.0000 - val_auc: 0.8561\n",
      "Epoch 65/100\n",
      "188/188 [==============================] - 0s 1ms/step - loss: 0.3754 - accuracy: 0.8540 - tp: 539.0000 - auc: 0.8447 - val_loss: 0.3633 - val_accuracy: 0.8553 - val_tp: 145.0000 - val_auc: 0.8626\n",
      "Epoch 66/100\n",
      "188/188 [==============================] - 0s 1ms/step - loss: 0.3802 - accuracy: 0.8558 - tp: 546.0000 - auc: 0.8414 - val_loss: 0.3721 - val_accuracy: 0.8520 - val_tp: 152.0000 - val_auc: 0.8540\n",
      "Epoch 67/100\n",
      "188/188 [==============================] - 0s 1ms/step - loss: 0.3771 - accuracy: 0.8567 - tp: 544.0000 - auc: 0.8427 - val_loss: 0.3684 - val_accuracy: 0.8560 - val_tp: 123.0000 - val_auc: 0.8598\n",
      "Epoch 68/100\n",
      "188/188 [==============================] - 0s 1ms/step - loss: 0.3789 - accuracy: 0.8527 - tp: 528.0000 - auc: 0.8425 - val_loss: 0.3781 - val_accuracy: 0.8540 - val_tp: 99.0000 - val_auc: 0.8632\n",
      "Epoch 69/100\n",
      "188/188 [==============================] - 0s 1ms/step - loss: 0.3816 - accuracy: 0.8503 - tp: 525.0000 - auc: 0.8393 - val_loss: 0.3748 - val_accuracy: 0.8527 - val_tp: 112.0000 - val_auc: 0.8553\n",
      "Epoch 70/100\n",
      "188/188 [==============================] - 0s 1ms/step - loss: 0.3776 - accuracy: 0.8560 - tp: 536.0000 - auc: 0.8410 - val_loss: 0.3785 - val_accuracy: 0.8527 - val_tp: 114.0000 - val_auc: 0.8542\n",
      "Epoch 71/100\n",
      "188/188 [==============================] - 0s 1ms/step - loss: 0.3787 - accuracy: 0.8518 - tp: 536.0000 - auc: 0.8428 - val_loss: 0.3709 - val_accuracy: 0.8533 - val_tp: 148.0000 - val_auc: 0.8562\n",
      "Epoch 72/100\n",
      "188/188 [==============================] - 0s 1ms/step - loss: 0.3788 - accuracy: 0.8535 - tp: 538.0000 - auc: 0.8405 - val_loss: 0.3776 - val_accuracy: 0.8507 - val_tp: 108.0000 - val_auc: 0.8600\n",
      "Epoch 73/100\n",
      "188/188 [==============================] - 0s 1ms/step - loss: 0.3799 - accuracy: 0.8555 - tp: 543.0000 - auc: 0.8401 - val_loss: 0.3726 - val_accuracy: 0.8520 - val_tp: 157.0000 - val_auc: 0.8532\n",
      "Epoch 74/100\n",
      "188/188 [==============================] - 0s 1ms/step - loss: 0.3780 - accuracy: 0.8532 - tp: 529.0000 - auc: 0.8418 - val_loss: 0.3760 - val_accuracy: 0.8447 - val_tp: 142.0000 - val_auc: 0.8494\n",
      "Epoch 75/100\n",
      "188/188 [==============================] - 0s 1ms/step - loss: 0.3810 - accuracy: 0.8528 - tp: 536.0000 - auc: 0.8378 - val_loss: 0.3716 - val_accuracy: 0.8567 - val_tp: 111.0000 - val_auc: 0.8599\n",
      "Epoch 76/100\n",
      "188/188 [==============================] - 0s 1ms/step - loss: 0.3811 - accuracy: 0.8547 - tp: 537.0000 - auc: 0.8400 - val_loss: 0.3743 - val_accuracy: 0.8520 - val_tp: 118.0000 - val_auc: 0.8566\n",
      "Epoch 77/100\n",
      "188/188 [==============================] - 0s 1ms/step - loss: 0.3789 - accuracy: 0.8553 - tp: 538.0000 - auc: 0.8422 - val_loss: 0.3717 - val_accuracy: 0.8553 - val_tp: 120.0000 - val_auc: 0.8607\n",
      "Epoch 78/100\n",
      "188/188 [==============================] - 0s 1ms/step - loss: 0.3760 - accuracy: 0.8580 - tp: 554.0000 - auc: 0.8429 - val_loss: 0.3848 - val_accuracy: 0.8500 - val_tp: 100.0000 - val_auc: 0.8569\n",
      "Epoch 79/100\n",
      "188/188 [==============================] - 0s 1ms/step - loss: 0.3784 - accuracy: 0.8527 - tp: 533.0000 - auc: 0.8437 - val_loss: 0.3696 - val_accuracy: 0.8520 - val_tp: 136.0000 - val_auc: 0.8573\n",
      "Epoch 80/100\n",
      "188/188 [==============================] - 0s 1ms/step - loss: 0.3772 - accuracy: 0.8555 - tp: 545.0000 - auc: 0.8454 - val_loss: 0.3835 - val_accuracy: 0.8520 - val_tp: 121.0000 - val_auc: 0.8524\n",
      "Epoch 81/100\n",
      "188/188 [==============================] - 0s 1ms/step - loss: 0.3781 - accuracy: 0.8553 - tp: 543.0000 - auc: 0.8445 - val_loss: 0.3817 - val_accuracy: 0.8447 - val_tp: 168.0000 - val_auc: 0.8600\n",
      "Epoch 82/100\n",
      "188/188 [==============================] - 0s 1ms/step - loss: 0.3790 - accuracy: 0.8537 - tp: 550.0000 - auc: 0.8410 - val_loss: 0.3699 - val_accuracy: 0.8560 - val_tp: 154.0000 - val_auc: 0.8578\n",
      "Epoch 83/100\n",
      "188/188 [==============================] - 0s 1ms/step - loss: 0.3760 - accuracy: 0.8535 - tp: 553.0000 - auc: 0.8435 - val_loss: 0.3655 - val_accuracy: 0.8553 - val_tp: 141.0000 - val_auc: 0.8592\n",
      "Epoch 84/100\n",
      "188/188 [==============================] - 0s 1ms/step - loss: 0.3732 - accuracy: 0.8522 - tp: 539.0000 - auc: 0.8480 - val_loss: 0.3760 - val_accuracy: 0.8527 - val_tp: 133.0000 - val_auc: 0.8470\n",
      "Epoch 85/100\n",
      "188/188 [==============================] - 0s 1ms/step - loss: 0.3741 - accuracy: 0.8568 - tp: 555.0000 - auc: 0.8450 - val_loss: 0.3841 - val_accuracy: 0.8487 - val_tp: 105.0000 - val_auc: 0.8503\n",
      "Epoch 86/100\n",
      "188/188 [==============================] - 0s 1ms/step - loss: 0.3798 - accuracy: 0.8508 - tp: 530.0000 - auc: 0.8422 - val_loss: 0.3742 - val_accuracy: 0.8540 - val_tp: 116.0000 - val_auc: 0.8580\n",
      "Epoch 87/100\n",
      "188/188 [==============================] - 0s 1ms/step - loss: 0.3770 - accuracy: 0.8540 - tp: 544.0000 - auc: 0.8414 - val_loss: 0.3699 - val_accuracy: 0.8553 - val_tp: 134.0000 - val_auc: 0.8567\n",
      "Epoch 88/100\n",
      "188/188 [==============================] - 0s 1ms/step - loss: 0.3760 - accuracy: 0.8505 - tp: 525.0000 - auc: 0.8461 - val_loss: 0.3693 - val_accuracy: 0.8520 - val_tp: 126.0000 - val_auc: 0.8572\n",
      "Epoch 89/100\n",
      "188/188 [==============================] - 0s 1ms/step - loss: 0.3811 - accuracy: 0.8483 - tp: 518.0000 - auc: 0.8423 - val_loss: 0.3676 - val_accuracy: 0.8540 - val_tp: 144.0000 - val_auc: 0.8583\n",
      "Epoch 90/100\n",
      "188/188 [==============================] - 0s 1ms/step - loss: 0.3732 - accuracy: 0.8542 - tp: 540.0000 - auc: 0.8479 - val_loss: 0.3738 - val_accuracy: 0.8533 - val_tp: 113.0000 - val_auc: 0.8547\n",
      "Epoch 91/100\n",
      "188/188 [==============================] - 0s 1ms/step - loss: 0.3793 - accuracy: 0.8513 - tp: 536.0000 - auc: 0.8414 - val_loss: 0.3750 - val_accuracy: 0.8573 - val_tp: 136.0000 - val_auc: 0.8596\n",
      "Epoch 92/100\n",
      "188/188 [==============================] - 0s 1ms/step - loss: 0.3786 - accuracy: 0.8540 - tp: 541.0000 - auc: 0.8397 - val_loss: 0.4012 - val_accuracy: 0.8407 - val_tp: 78.0000 - val_auc: 0.8523\n",
      "Epoch 93/100\n",
      "188/188 [==============================] - 0s 1ms/step - loss: 0.3798 - accuracy: 0.8540 - tp: 547.0000 - auc: 0.8404 - val_loss: 0.3800 - val_accuracy: 0.8487 - val_tp: 98.0000 - val_auc: 0.8595\n",
      "Epoch 94/100\n",
      "188/188 [==============================] - 0s 1ms/step - loss: 0.3795 - accuracy: 0.8525 - tp: 535.0000 - auc: 0.8409 - val_loss: 0.3684 - val_accuracy: 0.8533 - val_tp: 134.0000 - val_auc: 0.8601\n",
      "Epoch 95/100\n",
      "188/188 [==============================] - 0s 1ms/step - loss: 0.3775 - accuracy: 0.8528 - tp: 531.0000 - auc: 0.8435 - val_loss: 0.3765 - val_accuracy: 0.8527 - val_tp: 114.0000 - val_auc: 0.8533\n",
      "Epoch 96/100\n",
      "188/188 [==============================] - 0s 1ms/step - loss: 0.3783 - accuracy: 0.8563 - tp: 547.0000 - auc: 0.8408 - val_loss: 0.3754 - val_accuracy: 0.8567 - val_tp: 114.0000 - val_auc: 0.8536\n",
      "Epoch 97/100\n",
      "188/188 [==============================] - 0s 1ms/step - loss: 0.3773 - accuracy: 0.8542 - tp: 533.0000 - auc: 0.8409 - val_loss: 0.3776 - val_accuracy: 0.8513 - val_tp: 143.0000 - val_auc: 0.8581\n",
      "Epoch 98/100\n",
      "188/188 [==============================] - 0s 1ms/step - loss: 0.3784 - accuracy: 0.8533 - tp: 541.0000 - auc: 0.8435 - val_loss: 0.3756 - val_accuracy: 0.8513 - val_tp: 114.0000 - val_auc: 0.8572\n",
      "Epoch 99/100\n",
      "188/188 [==============================] - 0s 1ms/step - loss: 0.3801 - accuracy: 0.8532 - tp: 537.0000 - auc: 0.8400 - val_loss: 0.3711 - val_accuracy: 0.8573 - val_tp: 144.0000 - val_auc: 0.8545\n",
      "Epoch 100/100\n",
      "188/188 [==============================] - 0s 1ms/step - loss: 0.3766 - accuracy: 0.8568 - tp: 553.0000 - auc: 0.8419 - val_loss: 0.3741 - val_accuracy: 0.8560 - val_tp: 155.0000 - val_auc: 0.8553\n",
      "79/79 [==============================] - 0s 703us/step - loss: 0.3666 - accuracy: 0.8568 - tp: 281.0000 - auc: 0.8591\n",
      "MSE on test set: [0.36663395166397095, 0.8568000197410583, 281.0, 0.8591066598892212]\n"
     ]
    }
   ],
   "source": [
    "# create the best model\n",
    "model_modify = tuner.hypermodel.build(best_hps)\n",
    "\n",
    "#create another model\n",
    "log_modify = model_modify.fit(X_train, Y_train,\n",
    "               epochs=100,\n",
    "               validation_data=(X_valid,Y_valid),)\n",
    "#                callbacks=[early_stopping_cb])\n",
    "\n",
    "\n",
    "print(\"MSE on test set: \" + str(model_modify.evaluate(X_test, Y_test)))\n"
   ]
  },
  {
   "cell_type": "code",
   "execution_count": 43,
   "metadata": {},
   "outputs": [
    {
     "name": "stdout",
     "output_type": "stream",
     "text": [
      "Model: \"sequential\"\n",
      "_________________________________________________________________\n",
      " Layer (type)                Output Shape              Param #   \n",
      "=================================================================\n",
      " dense (Dense)               (None, 9)                 108       \n",
      "                                                                 \n",
      " dense_1 (Dense)             (None, 42)                420       \n",
      "                                                                 \n",
      " dropout (Dropout)           (None, 42)                0         \n",
      "                                                                 \n",
      " dense_2 (Dense)             (None, 1)                 43        \n",
      "                                                                 \n",
      "=================================================================\n",
      "Total params: 571\n",
      "Trainable params: 571\n",
      "Non-trainable params: 0\n",
      "_________________________________________________________________\n"
     ]
    }
   ],
   "source": [
    "model_modify.summary()"
   ]
  },
  {
   "cell_type": "code",
   "execution_count": 44,
   "metadata": {},
   "outputs": [
    {
     "data": {
      "image/png": "[encoded data removed]",
      "text/plain": [
       "<Figure size 576x288 with 1 Axes>"
      ]
     },
     "metadata": {},
     "output_type": "display_data"
    },
    {
     "name": "stdout",
     "output_type": "stream",
     "text": [
      "79/79 [==============================] - 0s 721us/step - loss: 0.3666 - accuracy: 0.8568 - tp: 281.0000 - auc: 0.8591\n"
     ]
    },
    {
     "data": {
      "text/plain": [
       "[0.36663395166397095, 0.8568000197410583, 281.0, 0.8591066598892212]"
      ]
     },
     "execution_count": 44,
     "metadata": {},
     "output_type": "execute_result"
    }
   ],
   "source": [
    "# visualise the lost \n",
    "plt.plot(log_modify.history['loss'],label = \"training loss\")\n",
    "plt.plot(log_modify.history['val_loss'], label = \"validation loss\")\n",
    "plt.legend()\n",
    "plt.show()\n",
    "# evalute the model on test set\n",
    "model_modify.evaluate(X_test, Y_test)"
   ]
  },
  {
   "cell_type": "code",
   "execution_count": 45,
   "metadata": {},
   "outputs": [
    {
     "data": {
      "text/plain": [
       "0.8589537002957316"
      ]
     },
     "execution_count": 45,
     "metadata": {},
     "output_type": "execute_result"
    }
   ],
   "source": [
    "# make prediction on test set\n",
    "Y_prob = model_modify.predict(X_test)\n",
    "Y_prob = Y_prob.reshape(-1,)\n",
    "Y_prob = [ y for y in Y_prob]\n",
    "\n",
    "# get the AUC score\n",
    "roc_auc_score(Y_test, Y_prob)"
   ]
  },
  {
   "cell_type": "markdown",
   "metadata": {},
   "source": [
    "##### ??? Bias and Variance checking - Use different tools such as batch normalisation ???"
   ]
  },
  {
   "cell_type": "markdown",
   "metadata": {},
   "source": [
    "##### Accuracy comparison of NNs - choosing final NN"
   ]
  },
  {
   "cell_type": "markdown",
   "metadata": {},
   "source": [
    "### Accuracies: Classifers vs NN "
   ]
  }
 ],
 "metadata": {
  "kernelspec": {
   "display_name": "Python 3.8.13 ('py38_tsf_env')",
   "language": "python",
   "name": "python3"
  },
  "language_info": {
   "codemirror_mode": {
    "name": "ipython",
    "version": 3
   },
   "file_extension": ".py",
   "mimetype": "text/x-python",
   "name": "python",
   "nbconvert_exporter": "python",
   "pygments_lexer": "ipython3",
   "version": "3.8.13"
  },
  "vscode": {
   "interpreter": {
    "hash": "1c955ac2759b198ced90504fafd0653ff1948d23274faaeb8b6184240be651d3"
   }
  }
 },
 "nbformat": 4,
 "nbformat_minor": 2
}
